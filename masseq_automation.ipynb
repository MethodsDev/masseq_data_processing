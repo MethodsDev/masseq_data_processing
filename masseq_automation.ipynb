{
 "cells": [
  {
   "cell_type": "code",
   "execution_count": 1,
   "metadata": {},
   "outputs": [
    {
     "name": "stdout",
     "output_type": "stream",
     "text": [
      "Requirement already satisfied: pip in /home/jupyter/.local/lib/python3.10/site-packages (23.3.2)\r\n"
     ]
    }
   ],
   "source": [
    "#!pip install --upgrade pip"
   ]
  },
  {
   "cell_type": "code",
   "execution_count": 1,
   "metadata": {},
   "outputs": [
    {
     "name": "stderr",
     "output_type": "stream",
     "text": [
      "WARNING: pip is being invoked by an old script wrapper. This will fail in a future version of pip.\n",
      "Please see https://github.com/pypa/pip/issues/5599 for advice on fixing the underlying issue.\n",
      "To avoid this problem you can invoke Python with '-m pip' instead of running pip directly.\n"
     ]
    },
    {
     "data": {
      "text/html": [
       "<pre style=\"white-space:pre;overflow-x:auto;line-height:normal;font-family:Menlo,'DejaVu Sans Mono',consolas,'Courier New',monospace\">Collecting git+https://github.com/broadinstitute/lrma-cloud-utils.git\n",
       "</pre>\n"
      ],
      "text/plain": [
       "Collecting git+https://github.com/broadinstitute/lrma-cloud-utils.git\n"
      ]
     },
     "metadata": {},
     "output_type": "display_data"
    },
    {
     "data": {
      "text/html": [
       "<pre style=\"white-space:pre;overflow-x:auto;line-height:normal;font-family:Menlo,'DejaVu Sans Mono',consolas,'Courier New',monospace\">  Cloning https://github.com/broadinstitute/lrma-cloud-utils.git to /tmp/pip-req-build-aplu30qx\n",
       "</pre>\n"
      ],
      "text/plain": [
       "  Cloning https://github.com/broadinstitute/lrma-cloud-utils.git to /tmp/pip-req-build-aplu30qx\n"
      ]
     },
     "metadata": {},
     "output_type": "display_data"
    },
    {
     "data": {
      "text/html": [
       "<pre style=\"white-space:pre;overflow-x:auto;line-height:normal;font-family:Menlo,'DejaVu Sans Mono',consolas,'Courier New',monospace\">  Running command git clone --filter=blob:none --quiet https://github.com/broadinstitute/lrma-cloud-utils.git /tmp/pip-req-build-aplu30qx\n",
       "</pre>\n"
      ],
      "text/plain": [
       "  Running command git clone --filter=blob:none --quiet https://github.com/broadinstitute/lrma-cloud-utils.git /tmp/pip-req-build-aplu30qx\n"
      ]
     },
     "metadata": {},
     "output_type": "display_data"
    },
    {
     "data": {
      "text/html": [
       "<pre style=\"white-space:pre;overflow-x:auto;line-height:normal;font-family:Menlo,'DejaVu Sans Mono',consolas,'Courier New',monospace\">  Resolved https://github.com/broadinstitute/lrma-cloud-utils.git to commit 17a6775e2761928d44c961df4685650e047ceb57\n",
       "</pre>\n"
      ],
      "text/plain": [
       "  Resolved https://github.com/broadinstitute/lrma-cloud-utils.git to commit 17a6775e2761928d44c961df4685650e047ceb57\n"
      ]
     },
     "metadata": {},
     "output_type": "display_data"
    },
    {
     "data": {
      "text/html": [
       "<pre style=\"white-space:pre;overflow-x:auto;line-height:normal;font-family:Menlo,'DejaVu Sans Mono',consolas,'Courier New',monospace\">  Preparing metadata (setup.py): started\n",
       "</pre>\n"
      ],
      "text/plain": [
       "  Preparing metadata (setup.py): started\n"
      ]
     },
     "metadata": {},
     "output_type": "display_data"
    },
    {
     "data": {
      "text/html": [
       "<pre style=\"white-space:pre;overflow-x:auto;line-height:normal;font-family:Menlo,'DejaVu Sans Mono',consolas,'Courier New',monospace\">  Preparing metadata (setup.py): finished with status 'done'\n",
       "</pre>\n"
      ],
      "text/plain": [
       "  Preparing metadata (setup.py): finished with status 'done'\n"
      ]
     },
     "metadata": {},
     "output_type": "display_data"
    },
    {
     "data": {
      "text/html": [
       "<pre style=\"white-space:pre;overflow-x:auto;line-height:normal;font-family:Menlo,'DejaVu Sans Mono',consolas,'Courier New',monospace\">Requirement already satisfied: ansi2html&gt;=1.8.0 in /home/jupyter/.local/lib/python3.10/site-packages (from lrmaCUX==0.0.2) (1.9.1)\n",
       "</pre>\n"
      ],
      "text/plain": [
       "Requirement already satisfied: ansi2html>=1.8.0 in /home/jupyter/.local/lib/python3.10/site-packages (from lrmaCUX==0.0.2) (1.9.1)\n"
      ]
     },
     "metadata": {},
     "output_type": "display_data"
    },
    {
     "data": {
      "text/html": [
       "<pre style=\"white-space:pre;overflow-x:auto;line-height:normal;font-family:Menlo,'DejaVu Sans Mono',consolas,'Courier New',monospace\">Requirement already satisfied: firecloud&gt;=0.16.35 in /opt/conda/lib/python3.10/site-packages (from lrmaCUX==0.0.2) (0.16.35)\n",
       "</pre>\n"
      ],
      "text/plain": [
       "Requirement already satisfied: firecloud>=0.16.35 in /opt/conda/lib/python3.10/site-packages (from lrmaCUX==0.0.2) (0.16.35)\n"
      ]
     },
     "metadata": {},
     "output_type": "display_data"
    },
    {
     "data": {
      "text/html": [
       "<pre style=\"white-space:pre;overflow-x:auto;line-height:normal;font-family:Menlo,'DejaVu Sans Mono',consolas,'Courier New',monospace\">Requirement already satisfied: google-cloud-storage&gt;=2.11.0 in /home/jupyter/.local/lib/python3.10/site-packages (from lrmaCUX==0.0.2) (2.14.0)\n",
       "</pre>\n"
      ],
      "text/plain": [
       "Requirement already satisfied: google-cloud-storage>=2.11.0 in /home/jupyter/.local/lib/python3.10/site-packages (from lrmaCUX==0.0.2) (2.14.0)\n"
      ]
     },
     "metadata": {},
     "output_type": "display_data"
    },
    {
     "data": {
      "text/html": [
       "<pre style=\"white-space:pre;overflow-x:auto;line-height:normal;font-family:Menlo,'DejaVu Sans Mono',consolas,'Courier New',monospace\">Requirement already satisfied: gcsfs&gt;=2023.9.2 in /home/jupyter/.local/lib/python3.10/site-packages (from lrmaCUX==0.0.2) (2023.12.2.post1)\n",
       "</pre>\n"
      ],
      "text/plain": [
       "Requirement already satisfied: gcsfs>=2023.9.2 in /home/jupyter/.local/lib/python3.10/site-packages (from lrmaCUX==0.0.2) (2023.12.2.post1)\n"
      ]
     },
     "metadata": {},
     "output_type": "display_data"
    },
    {
     "data": {
      "text/html": [
       "<pre style=\"white-space:pre;overflow-x:auto;line-height:normal;font-family:Menlo,'DejaVu Sans Mono',consolas,'Courier New',monospace\">Requirement already satisfied: jupyter&gt;=1.0.0 in /home/jupyter/.local/lib/python3.10/site-packages (from lrmaCUX==0.0.2) (1.0.0)\n",
       "</pre>\n"
      ],
      "text/plain": [
       "Requirement already satisfied: jupyter>=1.0.0 in /home/jupyter/.local/lib/python3.10/site-packages (from lrmaCUX==0.0.2) (1.0.0)\n"
      ]
     },
     "metadata": {},
     "output_type": "display_data"
    },
    {
     "data": {
      "text/html": [
       "<pre style=\"white-space:pre;overflow-x:auto;line-height:normal;font-family:Menlo,'DejaVu Sans Mono',consolas,'Courier New',monospace\">Requirement already satisfied: natsort&gt;=8.4.0 in /home/jupyter/.local/lib/python3.10/site-packages (from lrmaCUX==0.0.2) (8.4.0)\n",
       "</pre>\n"
      ],
      "text/plain": [
       "Requirement already satisfied: natsort>=8.4.0 in /home/jupyter/.local/lib/python3.10/site-packages (from lrmaCUX==0.0.2) (8.4.0)\n"
      ]
     },
     "metadata": {},
     "output_type": "display_data"
    },
    {
     "data": {
      "text/html": [
       "<pre style=\"white-space:pre;overflow-x:auto;line-height:normal;font-family:Menlo,'DejaVu Sans Mono',consolas,'Courier New',monospace\">Requirement already satisfied: scipy&gt;=1.11.3 in /home/jupyter/.local/lib/python3.10/site-packages (from lrmaCUX==0.0.2) (1.11.4)\n",
       "</pre>\n"
      ],
      "text/plain": [
       "Requirement already satisfied: scipy>=1.11.3 in /home/jupyter/.local/lib/python3.10/site-packages (from lrmaCUX==0.0.2) (1.11.4)\n"
      ]
     },
     "metadata": {},
     "output_type": "display_data"
    },
    {
     "data": {
      "text/html": [
       "<pre style=\"white-space:pre;overflow-x:auto;line-height:normal;font-family:Menlo,'DejaVu Sans Mono',consolas,'Courier New',monospace\">Requirement already satisfied: numpy&gt;=1.26.0 in /home/jupyter/.local/lib/python3.10/site-packages (from lrmaCUX==0.0.2) (1.26.3)\n",
       "</pre>\n"
      ],
      "text/plain": [
       "Requirement already satisfied: numpy>=1.26.0 in /home/jupyter/.local/lib/python3.10/site-packages (from lrmaCUX==0.0.2) (1.26.3)\n"
      ]
     },
     "metadata": {},
     "output_type": "display_data"
    },
    {
     "data": {
      "text/html": [
       "<pre style=\"white-space:pre;overflow-x:auto;line-height:normal;font-family:Menlo,'DejaVu Sans Mono',consolas,'Courier New',monospace\">Requirement already satisfied: pandas&gt;=2.1.1 in /home/jupyter/.local/lib/python3.10/site-packages (from lrmaCUX==0.0.2) (2.1.4)\n",
       "</pre>\n"
      ],
      "text/plain": [
       "Requirement already satisfied: pandas>=2.1.1 in /home/jupyter/.local/lib/python3.10/site-packages (from lrmaCUX==0.0.2) (2.1.4)\n"
      ]
     },
     "metadata": {},
     "output_type": "display_data"
    },
    {
     "data": {
      "text/html": [
       "<pre style=\"white-space:pre;overflow-x:auto;line-height:normal;font-family:Menlo,'DejaVu Sans Mono',consolas,'Courier New',monospace\">Requirement already satisfied: papermill&gt;=2.4.0 in /opt/conda/lib/python3.10/site-packages (from lrmaCUX==0.0.2) (2.4.0)\n",
       "</pre>\n"
      ],
      "text/plain": [
       "Requirement already satisfied: papermill>=2.4.0 in /opt/conda/lib/python3.10/site-packages (from lrmaCUX==0.0.2) (2.4.0)\n"
      ]
     },
     "metadata": {},
     "output_type": "display_data"
    },
    {
     "data": {
      "text/html": [
       "<pre style=\"white-space:pre;overflow-x:auto;line-height:normal;font-family:Menlo,'DejaVu Sans Mono',consolas,'Courier New',monospace\">Requirement already satisfied: python-dateutil&gt;=2.8.2 in /opt/conda/lib/python3.10/site-packages (from lrmaCUX==0.0.2) (2.8.2)\n",
       "</pre>\n"
      ],
      "text/plain": [
       "Requirement already satisfied: python-dateutil>=2.8.2 in /opt/conda/lib/python3.10/site-packages (from lrmaCUX==0.0.2) (2.8.2)\n"
      ]
     },
     "metadata": {},
     "output_type": "display_data"
    },
    {
     "data": {
      "text/html": [
       "<pre style=\"white-space:pre;overflow-x:auto;line-height:normal;font-family:Menlo,'DejaVu Sans Mono',consolas,'Courier New',monospace\">Requirement already satisfied: pytz&gt;=2023.3.post1 in /home/jupyter/.local/lib/python3.10/site-packages (from lrmaCUX==0.0.2) (2023.3.post1)\n",
       "</pre>\n"
      ],
      "text/plain": [
       "Requirement already satisfied: pytz>=2023.3.post1 in /home/jupyter/.local/lib/python3.10/site-packages (from lrmaCUX==0.0.2) (2023.3.post1)\n"
      ]
     },
     "metadata": {},
     "output_type": "display_data"
    },
    {
     "data": {
      "text/html": [
       "<pre style=\"white-space:pre;overflow-x:auto;line-height:normal;font-family:Menlo,'DejaVu Sans Mono',consolas,'Courier New',monospace\">Requirement already satisfied: sendgrid&gt;=6.10.0 in /home/jupyter/.local/lib/python3.10/site-packages (from lrmaCUX==0.0.2) (6.11.0)\n",
       "</pre>\n"
      ],
      "text/plain": [
       "Requirement already satisfied: sendgrid>=6.10.0 in /home/jupyter/.local/lib/python3.10/site-packages (from lrmaCUX==0.0.2) (6.11.0)\n"
      ]
     },
     "metadata": {},
     "output_type": "display_data"
    },
    {
     "data": {
      "text/html": [
       "<pre style=\"white-space:pre;overflow-x:auto;line-height:normal;font-family:Menlo,'DejaVu Sans Mono',consolas,'Courier New',monospace\">Requirement already satisfied: termcolor&gt;=2.3.0 in /opt/conda/lib/python3.10/site-packages (from lrmaCUX==0.0.2) (2.3.0)\n",
       "</pre>\n"
      ],
      "text/plain": [
       "Requirement already satisfied: termcolor>=2.3.0 in /opt/conda/lib/python3.10/site-packages (from lrmaCUX==0.0.2) (2.3.0)\n"
      ]
     },
     "metadata": {},
     "output_type": "display_data"
    },
    {
     "data": {
      "text/html": [
       "<pre style=\"white-space:pre;overflow-x:auto;line-height:normal;font-family:Menlo,'DejaVu Sans Mono',consolas,'Courier New',monospace\">Requirement already satisfied: xmltodict&gt;=0.13.0 in /home/jupyter/.local/lib/python3.10/site-packages (from lrmaCUX==0.0.2) (0.13.0)\n",
       "</pre>\n"
      ],
      "text/plain": [
       "Requirement already satisfied: xmltodict>=0.13.0 in /home/jupyter/.local/lib/python3.10/site-packages (from lrmaCUX==0.0.2) (0.13.0)\n"
      ]
     },
     "metadata": {},
     "output_type": "display_data"
    },
    {
     "data": {
      "text/html": [
       "<pre style=\"white-space:pre;overflow-x:auto;line-height:normal;font-family:Menlo,'DejaVu Sans Mono',consolas,'Courier New',monospace\">Requirement already satisfied: ipynbname&gt;=2023.2.0.0 in /home/jupyter/.local/lib/python3.10/site-packages (from lrmaCUX==0.0.2) (2023.2.0.0)\n",
       "</pre>\n"
      ],
      "text/plain": [
       "Requirement already satisfied: ipynbname>=2023.2.0.0 in /home/jupyter/.local/lib/python3.10/site-packages (from lrmaCUX==0.0.2) (2023.2.0.0)\n"
      ]
     },
     "metadata": {},
     "output_type": "display_data"
    },
    {
     "data": {
      "text/html": [
       "<pre style=\"white-space:pre;overflow-x:auto;line-height:normal;font-family:Menlo,'DejaVu Sans Mono',consolas,'Courier New',monospace\">Requirement already satisfied: google-auth!=2.1.*,!=2.2.*,!=2.3.0,!=2.3.1,&gt;=1.6.3 in /home/jupyter/.local/lib/python3.10/site-packages (from firecloud&gt;=0.16.35-&gt;lrmaCUX==0.0.2) (2.26.1)\n",
       "</pre>\n"
      ],
      "text/plain": [
       "Requirement already satisfied: google-auth!=2.1.*,!=2.2.*,!=2.3.0,!=2.3.1,>=1.6.3 in /home/jupyter/.local/lib/python3.10/site-packages (from firecloud>=0.16.35->lrmaCUX==0.0.2) (2.26.1)\n"
      ]
     },
     "metadata": {},
     "output_type": "display_data"
    },
    {
     "data": {
      "text/html": [
       "<pre style=\"white-space:pre;overflow-x:auto;line-height:normal;font-family:Menlo,'DejaVu Sans Mono',consolas,'Courier New',monospace\">Requirement already satisfied: pydot in /opt/conda/lib/python3.10/site-packages (from firecloud&gt;=0.16.35-&gt;lrmaCUX==0.0.2) (1.4.2)\n",
       "</pre>\n"
      ],
      "text/plain": [
       "Requirement already satisfied: pydot in /opt/conda/lib/python3.10/site-packages (from firecloud>=0.16.35->lrmaCUX==0.0.2) (1.4.2)\n"
      ]
     },
     "metadata": {},
     "output_type": "display_data"
    },
    {
     "data": {
      "text/html": [
       "<pre style=\"white-space:pre;overflow-x:auto;line-height:normal;font-family:Menlo,'DejaVu Sans Mono',consolas,'Courier New',monospace\">Requirement already satisfied: requests[security] in /opt/conda/lib/python3.10/site-packages (from firecloud&gt;=0.16.35-&gt;lrmaCUX==0.0.2) (2.29.0)\n",
       "</pre>\n"
      ],
      "text/plain": [
       "Requirement already satisfied: requests[security] in /opt/conda/lib/python3.10/site-packages (from firecloud>=0.16.35->lrmaCUX==0.0.2) (2.29.0)\n"
      ]
     },
     "metadata": {},
     "output_type": "display_data"
    },
    {
     "data": {
      "text/html": [
       "<pre style=\"white-space:pre;overflow-x:auto;line-height:normal;font-family:Menlo,'DejaVu Sans Mono',consolas,'Courier New',monospace\">Requirement already satisfied: setuptools&gt;=40.3.0 in /opt/conda/lib/python3.10/site-packages (from firecloud&gt;=0.16.35-&gt;lrmaCUX==0.0.2) (68.1.2)\n",
       "</pre>\n"
      ],
      "text/plain": [
       "Requirement already satisfied: setuptools>=40.3.0 in /opt/conda/lib/python3.10/site-packages (from firecloud>=0.16.35->lrmaCUX==0.0.2) (68.1.2)\n"
      ]
     },
     "metadata": {},
     "output_type": "display_data"
    },
    {
     "data": {
      "text/html": [
       "<pre style=\"white-space:pre;overflow-x:auto;line-height:normal;font-family:Menlo,'DejaVu Sans Mono',consolas,'Courier New',monospace\">Requirement already satisfied: six in /opt/conda/lib/python3.10/site-packages (from firecloud&gt;=0.16.35-&gt;lrmaCUX==0.0.2) (1.16.0)\n",
       "</pre>\n"
      ],
      "text/plain": [
       "Requirement already satisfied: six in /opt/conda/lib/python3.10/site-packages (from firecloud>=0.16.35->lrmaCUX==0.0.2) (1.16.0)\n"
      ]
     },
     "metadata": {},
     "output_type": "display_data"
    },
    {
     "data": {
      "text/html": [
       "<pre style=\"white-space:pre;overflow-x:auto;line-height:normal;font-family:Menlo,'DejaVu Sans Mono',consolas,'Courier New',monospace\">Requirement already satisfied: nose in /opt/conda/lib/python3.10/site-packages (from firecloud&gt;=0.16.35-&gt;lrmaCUX==0.0.2) (1.3.7)\n",
       "</pre>\n"
      ],
      "text/plain": [
       "Requirement already satisfied: nose in /opt/conda/lib/python3.10/site-packages (from firecloud>=0.16.35->lrmaCUX==0.0.2) (1.3.7)\n"
      ]
     },
     "metadata": {},
     "output_type": "display_data"
    },
    {
     "data": {
      "text/html": [
       "<pre style=\"white-space:pre;overflow-x:auto;line-height:normal;font-family:Menlo,'DejaVu Sans Mono',consolas,'Courier New',monospace\">Requirement already satisfied: pylint&gt;=1.9.5 in /opt/conda/lib/python3.10/site-packages (from firecloud&gt;=0.16.35-&gt;lrmaCUX==0.0.2) (3.0.0)\n",
       "</pre>\n"
      ],
      "text/plain": [
       "Requirement already satisfied: pylint>=1.9.5 in /opt/conda/lib/python3.10/site-packages (from firecloud>=0.16.35->lrmaCUX==0.0.2) (3.0.0)\n"
      ]
     },
     "metadata": {},
     "output_type": "display_data"
    },
    {
     "data": {
      "text/html": [
       "<pre style=\"white-space:pre;overflow-x:auto;line-height:normal;font-family:Menlo,'DejaVu Sans Mono',consolas,'Courier New',monospace\">Requirement already satisfied: aiohttp!=4.0.0a0,!=4.0.0a1 in /opt/conda/lib/python3.10/site-packages (from gcsfs&gt;=2023.9.2-&gt;lrmaCUX==0.0.2) (3.8.5)\n",
       "</pre>\n"
      ],
      "text/plain": [
       "Requirement already satisfied: aiohttp!=4.0.0a0,!=4.0.0a1 in /opt/conda/lib/python3.10/site-packages (from gcsfs>=2023.9.2->lrmaCUX==0.0.2) (3.8.5)\n"
      ]
     },
     "metadata": {},
     "output_type": "display_data"
    },
    {
     "data": {
      "text/html": [
       "<pre style=\"white-space:pre;overflow-x:auto;line-height:normal;font-family:Menlo,'DejaVu Sans Mono',consolas,'Courier New',monospace\">Requirement already satisfied: decorator&gt;4.1.2 in /opt/conda/lib/python3.10/site-packages (from gcsfs&gt;=2023.9.2-&gt;lrmaCUX==0.0.2) (5.1.1)\n",
       "</pre>\n"
      ],
      "text/plain": [
       "Requirement already satisfied: decorator>4.1.2 in /opt/conda/lib/python3.10/site-packages (from gcsfs>=2023.9.2->lrmaCUX==0.0.2) (5.1.1)\n"
      ]
     },
     "metadata": {},
     "output_type": "display_data"
    },
    {
     "data": {
      "text/html": [
       "<pre style=\"white-space:pre;overflow-x:auto;line-height:normal;font-family:Menlo,'DejaVu Sans Mono',consolas,'Courier New',monospace\">Requirement already satisfied: fsspec==2023.12.2 in /home/jupyter/.local/lib/python3.10/site-packages (from gcsfs&gt;=2023.9.2-&gt;lrmaCUX==0.0.2) (2023.12.2)\n",
       "</pre>\n"
      ],
      "text/plain": [
       "Requirement already satisfied: fsspec==2023.12.2 in /home/jupyter/.local/lib/python3.10/site-packages (from gcsfs>=2023.9.2->lrmaCUX==0.0.2) (2023.12.2)\n"
      ]
     },
     "metadata": {},
     "output_type": "display_data"
    },
    {
     "data": {
      "text/html": [
       "<pre style=\"white-space:pre;overflow-x:auto;line-height:normal;font-family:Menlo,'DejaVu Sans Mono',consolas,'Courier New',monospace\">Requirement already satisfied: google-auth-oauthlib in /opt/conda/lib/python3.10/site-packages (from gcsfs&gt;=2023.9.2-&gt;lrmaCUX==0.0.2) (0.4.6)\n",
       "</pre>\n"
      ],
      "text/plain": [
       "Requirement already satisfied: google-auth-oauthlib in /opt/conda/lib/python3.10/site-packages (from gcsfs>=2023.9.2->lrmaCUX==0.0.2) (0.4.6)\n"
      ]
     },
     "metadata": {},
     "output_type": "display_data"
    },
    {
     "data": {
      "text/html": [
       "<pre style=\"white-space:pre;overflow-x:auto;line-height:normal;font-family:Menlo,'DejaVu Sans Mono',consolas,'Courier New',monospace\">Requirement already satisfied: google-api-core!=2.0.*,!=2.1.*,!=2.2.*,!=2.3.0,&lt;3.0.0dev,&gt;=1.31.5 in /opt/conda/lib/python3.10/site-packages (from google-cloud-storage&gt;=2.11.0-&gt;lrmaCUX==0.0.2) (1.34.0)\n",
       "</pre>\n"
      ],
      "text/plain": [
       "Requirement already satisfied: google-api-core!=2.0.*,!=2.1.*,!=2.2.*,!=2.3.0,<3.0.0dev,>=1.31.5 in /opt/conda/lib/python3.10/site-packages (from google-cloud-storage>=2.11.0->lrmaCUX==0.0.2) (1.34.0)\n"
      ]
     },
     "metadata": {},
     "output_type": "display_data"
    },
    {
     "data": {
      "text/html": [
       "<pre style=\"white-space:pre;overflow-x:auto;line-height:normal;font-family:Menlo,'DejaVu Sans Mono',consolas,'Courier New',monospace\">Requirement already satisfied: google-cloud-core&lt;3.0dev,&gt;=2.3.0 in /opt/conda/lib/python3.10/site-packages (from google-cloud-storage&gt;=2.11.0-&gt;lrmaCUX==0.0.2) (2.3.3)\n",
       "</pre>\n"
      ],
      "text/plain": [
       "Requirement already satisfied: google-cloud-core<3.0dev,>=2.3.0 in /opt/conda/lib/python3.10/site-packages (from google-cloud-storage>=2.11.0->lrmaCUX==0.0.2) (2.3.3)\n"
      ]
     },
     "metadata": {},
     "output_type": "display_data"
    },
    {
     "data": {
      "text/html": [
       "<pre style=\"white-space:pre;overflow-x:auto;line-height:normal;font-family:Menlo,'DejaVu Sans Mono',consolas,'Courier New',monospace\">Requirement already satisfied: google-resumable-media&gt;=2.6.0 in /opt/conda/lib/python3.10/site-packages (from google-cloud-storage&gt;=2.11.0-&gt;lrmaCUX==0.0.2) (2.6.0)\n",
       "</pre>\n"
      ],
      "text/plain": [
       "Requirement already satisfied: google-resumable-media>=2.6.0 in /opt/conda/lib/python3.10/site-packages (from google-cloud-storage>=2.11.0->lrmaCUX==0.0.2) (2.6.0)\n"
      ]
     },
     "metadata": {},
     "output_type": "display_data"
    },
    {
     "data": {
      "text/html": [
       "<pre style=\"white-space:pre;overflow-x:auto;line-height:normal;font-family:Menlo,'DejaVu Sans Mono',consolas,'Courier New',monospace\">Requirement already satisfied: google-crc32c&lt;2.0dev,&gt;=1.0 in /opt/conda/lib/python3.10/site-packages (from google-cloud-storage&gt;=2.11.0-&gt;lrmaCUX==0.0.2) (1.5.0)\n",
       "</pre>\n"
      ],
      "text/plain": [
       "Requirement already satisfied: google-crc32c<2.0dev,>=1.0 in /opt/conda/lib/python3.10/site-packages (from google-cloud-storage>=2.11.0->lrmaCUX==0.0.2) (1.5.0)\n"
      ]
     },
     "metadata": {},
     "output_type": "display_data"
    },
    {
     "data": {
      "text/html": [
       "<pre style=\"white-space:pre;overflow-x:auto;line-height:normal;font-family:Menlo,'DejaVu Sans Mono',consolas,'Courier New',monospace\">Requirement already satisfied: ipykernel in /opt/conda/lib/python3.10/site-packages (from ipynbname&gt;=2023.2.0.0-&gt;lrmaCUX==0.0.2) (6.25.1)\n",
       "</pre>\n"
      ],
      "text/plain": [
       "Requirement already satisfied: ipykernel in /opt/conda/lib/python3.10/site-packages (from ipynbname>=2023.2.0.0->lrmaCUX==0.0.2) (6.25.1)\n"
      ]
     },
     "metadata": {},
     "output_type": "display_data"
    },
    {
     "data": {
      "text/html": [
       "<pre style=\"white-space:pre;overflow-x:auto;line-height:normal;font-family:Menlo,'DejaVu Sans Mono',consolas,'Courier New',monospace\">Requirement already satisfied: notebook in /opt/conda/lib/python3.10/site-packages (from jupyter&gt;=1.0.0-&gt;lrmaCUX==0.0.2) (6.5.4)\n",
       "</pre>\n"
      ],
      "text/plain": [
       "Requirement already satisfied: notebook in /opt/conda/lib/python3.10/site-packages (from jupyter>=1.0.0->lrmaCUX==0.0.2) (6.5.4)\n"
      ]
     },
     "metadata": {},
     "output_type": "display_data"
    },
    {
     "data": {
      "text/html": [
       "<pre style=\"white-space:pre;overflow-x:auto;line-height:normal;font-family:Menlo,'DejaVu Sans Mono',consolas,'Courier New',monospace\">Requirement already satisfied: qtconsole in /home/jupyter/.local/lib/python3.10/site-packages (from jupyter&gt;=1.0.0-&gt;lrmaCUX==0.0.2) (5.5.1)\n",
       "</pre>\n"
      ],
      "text/plain": [
       "Requirement already satisfied: qtconsole in /home/jupyter/.local/lib/python3.10/site-packages (from jupyter>=1.0.0->lrmaCUX==0.0.2) (5.5.1)\n"
      ]
     },
     "metadata": {},
     "output_type": "display_data"
    },
    {
     "data": {
      "text/html": [
       "<pre style=\"white-space:pre;overflow-x:auto;line-height:normal;font-family:Menlo,'DejaVu Sans Mono',consolas,'Courier New',monospace\">Requirement already satisfied: jupyter-console in /home/jupyter/.local/lib/python3.10/site-packages (from jupyter&gt;=1.0.0-&gt;lrmaCUX==0.0.2) (6.6.3)\n",
       "</pre>\n"
      ],
      "text/plain": [
       "Requirement already satisfied: jupyter-console in /home/jupyter/.local/lib/python3.10/site-packages (from jupyter>=1.0.0->lrmaCUX==0.0.2) (6.6.3)\n"
      ]
     },
     "metadata": {},
     "output_type": "display_data"
    },
    {
     "data": {
      "text/html": [
       "<pre style=\"white-space:pre;overflow-x:auto;line-height:normal;font-family:Menlo,'DejaVu Sans Mono',consolas,'Courier New',monospace\">Requirement already satisfied: nbconvert in /opt/conda/lib/python3.10/site-packages (from jupyter&gt;=1.0.0-&gt;lrmaCUX==0.0.2) (7.11.0)\n",
       "</pre>\n"
      ],
      "text/plain": [
       "Requirement already satisfied: nbconvert in /opt/conda/lib/python3.10/site-packages (from jupyter>=1.0.0->lrmaCUX==0.0.2) (7.11.0)\n"
      ]
     },
     "metadata": {},
     "output_type": "display_data"
    },
    {
     "data": {
      "text/html": [
       "<pre style=\"white-space:pre;overflow-x:auto;line-height:normal;font-family:Menlo,'DejaVu Sans Mono',consolas,'Courier New',monospace\">Requirement already satisfied: ipywidgets in /opt/conda/lib/python3.10/site-packages (from jupyter&gt;=1.0.0-&gt;lrmaCUX==0.0.2) (8.1.0)\n",
       "</pre>\n"
      ],
      "text/plain": [
       "Requirement already satisfied: ipywidgets in /opt/conda/lib/python3.10/site-packages (from jupyter>=1.0.0->lrmaCUX==0.0.2) (8.1.0)\n"
      ]
     },
     "metadata": {},
     "output_type": "display_data"
    },
    {
     "data": {
      "text/html": [
       "<pre style=\"white-space:pre;overflow-x:auto;line-height:normal;font-family:Menlo,'DejaVu Sans Mono',consolas,'Courier New',monospace\">Requirement already satisfied: tzdata&gt;=2022.1 in /opt/conda/lib/python3.10/site-packages (from pandas&gt;=2.1.1-&gt;lrmaCUX==0.0.2) (2023.3)\n",
       "</pre>\n"
      ],
      "text/plain": [
       "Requirement already satisfied: tzdata>=2022.1 in /opt/conda/lib/python3.10/site-packages (from pandas>=2.1.1->lrmaCUX==0.0.2) (2023.3)\n"
      ]
     },
     "metadata": {},
     "output_type": "display_data"
    },
    {
     "data": {
      "text/html": [
       "<pre style=\"white-space:pre;overflow-x:auto;line-height:normal;font-family:Menlo,'DejaVu Sans Mono',consolas,'Courier New',monospace\">Requirement already satisfied: ansiwrap in /opt/conda/lib/python3.10/site-packages (from papermill&gt;=2.4.0-&gt;lrmaCUX==0.0.2) (0.8.4)\n",
       "</pre>\n"
      ],
      "text/plain": [
       "Requirement already satisfied: ansiwrap in /opt/conda/lib/python3.10/site-packages (from papermill>=2.4.0->lrmaCUX==0.0.2) (0.8.4)\n"
      ]
     },
     "metadata": {},
     "output_type": "display_data"
    },
    {
     "data": {
      "text/html": [
       "<pre style=\"white-space:pre;overflow-x:auto;line-height:normal;font-family:Menlo,'DejaVu Sans Mono',consolas,'Courier New',monospace\">Requirement already satisfied: click in /opt/conda/lib/python3.10/site-packages (from papermill&gt;=2.4.0-&gt;lrmaCUX==0.0.2) (8.1.7)\n",
       "</pre>\n"
      ],
      "text/plain": [
       "Requirement already satisfied: click in /opt/conda/lib/python3.10/site-packages (from papermill>=2.4.0->lrmaCUX==0.0.2) (8.1.7)\n"
      ]
     },
     "metadata": {},
     "output_type": "display_data"
    },
    {
     "data": {
      "text/html": [
       "<pre style=\"white-space:pre;overflow-x:auto;line-height:normal;font-family:Menlo,'DejaVu Sans Mono',consolas,'Courier New',monospace\">Requirement already satisfied: pyyaml in /opt/conda/lib/python3.10/site-packages (from papermill&gt;=2.4.0-&gt;lrmaCUX==0.0.2) (6.0.1)\n",
       "</pre>\n"
      ],
      "text/plain": [
       "Requirement already satisfied: pyyaml in /opt/conda/lib/python3.10/site-packages (from papermill>=2.4.0->lrmaCUX==0.0.2) (6.0.1)\n"
      ]
     },
     "metadata": {},
     "output_type": "display_data"
    },
    {
     "data": {
      "text/html": [
       "<pre style=\"white-space:pre;overflow-x:auto;line-height:normal;font-family:Menlo,'DejaVu Sans Mono',consolas,'Courier New',monospace\">Requirement already satisfied: nbformat&gt;=5.1.2 in /opt/conda/lib/python3.10/site-packages (from papermill&gt;=2.4.0-&gt;lrmaCUX==0.0.2) (5.9.2)\n",
       "</pre>\n"
      ],
      "text/plain": [
       "Requirement already satisfied: nbformat>=5.1.2 in /opt/conda/lib/python3.10/site-packages (from papermill>=2.4.0->lrmaCUX==0.0.2) (5.9.2)\n"
      ]
     },
     "metadata": {},
     "output_type": "display_data"
    },
    {
     "data": {
      "text/html": [
       "<pre style=\"white-space:pre;overflow-x:auto;line-height:normal;font-family:Menlo,'DejaVu Sans Mono',consolas,'Courier New',monospace\">Requirement already satisfied: nbclient&gt;=0.2.0 in /opt/conda/lib/python3.10/site-packages (from papermill&gt;=2.4.0-&gt;lrmaCUX==0.0.2) (0.8.0)\n",
       "</pre>\n"
      ],
      "text/plain": [
       "Requirement already satisfied: nbclient>=0.2.0 in /opt/conda/lib/python3.10/site-packages (from papermill>=2.4.0->lrmaCUX==0.0.2) (0.8.0)\n"
      ]
     },
     "metadata": {},
     "output_type": "display_data"
    },
    {
     "data": {
      "text/html": [
       "<pre style=\"white-space:pre;overflow-x:auto;line-height:normal;font-family:Menlo,'DejaVu Sans Mono',consolas,'Courier New',monospace\">Requirement already satisfied: tqdm&gt;=4.32.2 in /opt/conda/lib/python3.10/site-packages (from papermill&gt;=2.4.0-&gt;lrmaCUX==0.0.2) (4.66.1)\n",
       "</pre>\n"
      ],
      "text/plain": [
       "Requirement already satisfied: tqdm>=4.32.2 in /opt/conda/lib/python3.10/site-packages (from papermill>=2.4.0->lrmaCUX==0.0.2) (4.66.1)\n"
      ]
     },
     "metadata": {},
     "output_type": "display_data"
    },
    {
     "data": {
      "text/html": [
       "<pre style=\"white-space:pre;overflow-x:auto;line-height:normal;font-family:Menlo,'DejaVu Sans Mono',consolas,'Courier New',monospace\">Requirement already satisfied: entrypoints in /opt/conda/lib/python3.10/site-packages (from papermill&gt;=2.4.0-&gt;lrmaCUX==0.0.2) (0.4)\n",
       "</pre>\n"
      ],
      "text/plain": [
       "Requirement already satisfied: entrypoints in /opt/conda/lib/python3.10/site-packages (from papermill>=2.4.0->lrmaCUX==0.0.2) (0.4)\n"
      ]
     },
     "metadata": {},
     "output_type": "display_data"
    },
    {
     "data": {
      "text/html": [
       "<pre style=\"white-space:pre;overflow-x:auto;line-height:normal;font-family:Menlo,'DejaVu Sans Mono',consolas,'Courier New',monospace\">Requirement already satisfied: tenacity in /opt/conda/lib/python3.10/site-packages (from papermill&gt;=2.4.0-&gt;lrmaCUX==0.0.2) (8.2.3)\n",
       "</pre>\n"
      ],
      "text/plain": [
       "Requirement already satisfied: tenacity in /opt/conda/lib/python3.10/site-packages (from papermill>=2.4.0->lrmaCUX==0.0.2) (8.2.3)\n"
      ]
     },
     "metadata": {},
     "output_type": "display_data"
    },
    {
     "data": {
      "text/html": [
       "<pre style=\"white-space:pre;overflow-x:auto;line-height:normal;font-family:Menlo,'DejaVu Sans Mono',consolas,'Courier New',monospace\">Requirement already satisfied: python-http-client&gt;=3.2.1 in /home/jupyter/.local/lib/python3.10/site-packages (from sendgrid&gt;=6.10.0-&gt;lrmaCUX==0.0.2) (3.3.7)\n",
       "</pre>\n"
      ],
      "text/plain": [
       "Requirement already satisfied: python-http-client>=3.2.1 in /home/jupyter/.local/lib/python3.10/site-packages (from sendgrid>=6.10.0->lrmaCUX==0.0.2) (3.3.7)\n"
      ]
     },
     "metadata": {},
     "output_type": "display_data"
    },
    {
     "data": {
      "text/html": [
       "<pre style=\"white-space:pre;overflow-x:auto;line-height:normal;font-family:Menlo,'DejaVu Sans Mono',consolas,'Courier New',monospace\">Requirement already satisfied: starkbank-ecdsa&gt;=2.0.1 in /home/jupyter/.local/lib/python3.10/site-packages (from sendgrid&gt;=6.10.0-&gt;lrmaCUX==0.0.2) (2.2.0)\n",
       "</pre>\n"
      ],
      "text/plain": [
       "Requirement already satisfied: starkbank-ecdsa>=2.0.1 in /home/jupyter/.local/lib/python3.10/site-packages (from sendgrid>=6.10.0->lrmaCUX==0.0.2) (2.2.0)\n"
      ]
     },
     "metadata": {},
     "output_type": "display_data"
    },
    {
     "data": {
      "text/html": [
       "<pre style=\"white-space:pre;overflow-x:auto;line-height:normal;font-family:Menlo,'DejaVu Sans Mono',consolas,'Courier New',monospace\">Requirement already satisfied: attrs&gt;=17.3.0 in /opt/conda/lib/python3.10/site-packages (from aiohttp!=4.0.0a0,!=4.0.0a1-&gt;gcsfs&gt;=2023.9.2-&gt;lrmaCUX==0.0.2) (23.1.0)\n",
       "</pre>\n"
      ],
      "text/plain": [
       "Requirement already satisfied: attrs>=17.3.0 in /opt/conda/lib/python3.10/site-packages (from aiohttp!=4.0.0a0,!=4.0.0a1->gcsfs>=2023.9.2->lrmaCUX==0.0.2) (23.1.0)\n"
      ]
     },
     "metadata": {},
     "output_type": "display_data"
    },
    {
     "data": {
      "text/html": [
       "<pre style=\"white-space:pre;overflow-x:auto;line-height:normal;font-family:Menlo,'DejaVu Sans Mono',consolas,'Courier New',monospace\">Requirement already satisfied: charset-normalizer&lt;4.0,&gt;=2.0 in /opt/conda/lib/python3.10/site-packages (from aiohttp!=4.0.0a0,!=4.0.0a1-&gt;gcsfs&gt;=2023.9.2-&gt;lrmaCUX==0.0.2) (3.2.0)\n",
       "</pre>\n"
      ],
      "text/plain": [
       "Requirement already satisfied: charset-normalizer<4.0,>=2.0 in /opt/conda/lib/python3.10/site-packages (from aiohttp!=4.0.0a0,!=4.0.0a1->gcsfs>=2023.9.2->lrmaCUX==0.0.2) (3.2.0)\n"
      ]
     },
     "metadata": {},
     "output_type": "display_data"
    },
    {
     "data": {
      "text/html": [
       "<pre style=\"white-space:pre;overflow-x:auto;line-height:normal;font-family:Menlo,'DejaVu Sans Mono',consolas,'Courier New',monospace\">Requirement already satisfied: multidict&lt;7.0,&gt;=4.5 in /opt/conda/lib/python3.10/site-packages (from aiohttp!=4.0.0a0,!=4.0.0a1-&gt;gcsfs&gt;=2023.9.2-&gt;lrmaCUX==0.0.2) (6.0.4)\n",
       "</pre>\n"
      ],
      "text/plain": [
       "Requirement already satisfied: multidict<7.0,>=4.5 in /opt/conda/lib/python3.10/site-packages (from aiohttp!=4.0.0a0,!=4.0.0a1->gcsfs>=2023.9.2->lrmaCUX==0.0.2) (6.0.4)\n"
      ]
     },
     "metadata": {},
     "output_type": "display_data"
    },
    {
     "data": {
      "text/html": [
       "<pre style=\"white-space:pre;overflow-x:auto;line-height:normal;font-family:Menlo,'DejaVu Sans Mono',consolas,'Courier New',monospace\">Requirement already satisfied: async-timeout&lt;5.0,&gt;=4.0.0a3 in /opt/conda/lib/python3.10/site-packages (from aiohttp!=4.0.0a0,!=4.0.0a1-&gt;gcsfs&gt;=2023.9.2-&gt;lrmaCUX==0.0.2) (4.0.3)\n",
       "</pre>\n"
      ],
      "text/plain": [
       "Requirement already satisfied: async-timeout<5.0,>=4.0.0a3 in /opt/conda/lib/python3.10/site-packages (from aiohttp!=4.0.0a0,!=4.0.0a1->gcsfs>=2023.9.2->lrmaCUX==0.0.2) (4.0.3)\n"
      ]
     },
     "metadata": {},
     "output_type": "display_data"
    },
    {
     "data": {
      "text/html": [
       "<pre style=\"white-space:pre;overflow-x:auto;line-height:normal;font-family:Menlo,'DejaVu Sans Mono',consolas,'Courier New',monospace\">Requirement already satisfied: yarl&lt;2.0,&gt;=1.0 in /opt/conda/lib/python3.10/site-packages (from aiohttp!=4.0.0a0,!=4.0.0a1-&gt;gcsfs&gt;=2023.9.2-&gt;lrmaCUX==0.0.2) (1.9.2)\n",
       "</pre>\n"
      ],
      "text/plain": [
       "Requirement already satisfied: yarl<2.0,>=1.0 in /opt/conda/lib/python3.10/site-packages (from aiohttp!=4.0.0a0,!=4.0.0a1->gcsfs>=2023.9.2->lrmaCUX==0.0.2) (1.9.2)\n"
      ]
     },
     "metadata": {},
     "output_type": "display_data"
    },
    {
     "data": {
      "text/html": [
       "<pre style=\"white-space:pre;overflow-x:auto;line-height:normal;font-family:Menlo,'DejaVu Sans Mono',consolas,'Courier New',monospace\">Requirement already satisfied: frozenlist&gt;=1.1.1 in /opt/conda/lib/python3.10/site-packages (from aiohttp!=4.0.0a0,!=4.0.0a1-&gt;gcsfs&gt;=2023.9.2-&gt;lrmaCUX==0.0.2) (1.4.0)\n",
       "</pre>\n"
      ],
      "text/plain": [
       "Requirement already satisfied: frozenlist>=1.1.1 in /opt/conda/lib/python3.10/site-packages (from aiohttp!=4.0.0a0,!=4.0.0a1->gcsfs>=2023.9.2->lrmaCUX==0.0.2) (1.4.0)\n"
      ]
     },
     "metadata": {},
     "output_type": "display_data"
    },
    {
     "data": {
      "text/html": [
       "<pre style=\"white-space:pre;overflow-x:auto;line-height:normal;font-family:Menlo,'DejaVu Sans Mono',consolas,'Courier New',monospace\">Requirement already satisfied: aiosignal&gt;=1.1.2 in /opt/conda/lib/python3.10/site-packages (from aiohttp!=4.0.0a0,!=4.0.0a1-&gt;gcsfs&gt;=2023.9.2-&gt;lrmaCUX==0.0.2) (1.3.1)\n",
       "</pre>\n"
      ],
      "text/plain": [
       "Requirement already satisfied: aiosignal>=1.1.2 in /opt/conda/lib/python3.10/site-packages (from aiohttp!=4.0.0a0,!=4.0.0a1->gcsfs>=2023.9.2->lrmaCUX==0.0.2) (1.3.1)\n"
      ]
     },
     "metadata": {},
     "output_type": "display_data"
    },
    {
     "data": {
      "text/html": [
       "<pre style=\"white-space:pre;overflow-x:auto;line-height:normal;font-family:Menlo,'DejaVu Sans Mono',consolas,'Courier New',monospace\">Requirement already satisfied: googleapis-common-protos&lt;2.0dev,&gt;=1.56.2 in /opt/conda/lib/python3.10/site-packages (from google-api-core!=2.0.*,!=2.1.*,!=2.2.*,!=2.3.0,&lt;3.0.0dev,&gt;=1.31.5-&gt;google-cloud-storage&gt;=2.11.0-&gt;lrmaCUX==0.0.2) (1.60.0)\n",
       "</pre>\n"
      ],
      "text/plain": [
       "Requirement already satisfied: googleapis-common-protos<2.0dev,>=1.56.2 in /opt/conda/lib/python3.10/site-packages (from google-api-core!=2.0.*,!=2.1.*,!=2.2.*,!=2.3.0,<3.0.0dev,>=1.31.5->google-cloud-storage>=2.11.0->lrmaCUX==0.0.2) (1.60.0)\n"
      ]
     },
     "metadata": {},
     "output_type": "display_data"
    },
    {
     "data": {
      "text/html": [
       "<pre style=\"white-space:pre;overflow-x:auto;line-height:normal;font-family:Menlo,'DejaVu Sans Mono',consolas,'Courier New',monospace\">Requirement already satisfied: protobuf!=3.20.0,!=3.20.1,!=4.21.0,!=4.21.1,!=4.21.2,!=4.21.3,!=4.21.4,!=4.21.5,&lt;4.0.0dev,&gt;=3.19.5 in /opt/conda/lib/python3.10/site-packages (from google-api-core!=2.0.*,!=2.1.*,!=2.2.*,!=2.3.0,&lt;3.0.0dev,&gt;=1.31.5-&gt;google-cloud-storage&gt;=2.11.0-&gt;lrmaCUX==0.0.2) (3.19.6)\n",
       "</pre>\n"
      ],
      "text/plain": [
       "Requirement already satisfied: protobuf!=3.20.0,!=3.20.1,!=4.21.0,!=4.21.1,!=4.21.2,!=4.21.3,!=4.21.4,!=4.21.5,<4.0.0dev,>=3.19.5 in /opt/conda/lib/python3.10/site-packages (from google-api-core!=2.0.*,!=2.1.*,!=2.2.*,!=2.3.0,<3.0.0dev,>=1.31.5->google-cloud-storage>=2.11.0->lrmaCUX==0.0.2) (3.19.6)\n"
      ]
     },
     "metadata": {},
     "output_type": "display_data"
    },
    {
     "data": {
      "text/html": [
       "<pre style=\"white-space:pre;overflow-x:auto;line-height:normal;font-family:Menlo,'DejaVu Sans Mono',consolas,'Courier New',monospace\">Requirement already satisfied: cachetools&lt;6.0,&gt;=2.0.0 in /opt/conda/lib/python3.10/site-packages (from google-auth!=2.1.*,!=2.2.*,!=2.3.0,!=2.3.1,&gt;=1.6.3-&gt;firecloud&gt;=0.16.35-&gt;lrmaCUX==0.0.2) (4.2.4)\n",
       "</pre>\n"
      ],
      "text/plain": [
       "Requirement already satisfied: cachetools<6.0,>=2.0.0 in /opt/conda/lib/python3.10/site-packages (from google-auth!=2.1.*,!=2.2.*,!=2.3.0,!=2.3.1,>=1.6.3->firecloud>=0.16.35->lrmaCUX==0.0.2) (4.2.4)\n"
      ]
     },
     "metadata": {},
     "output_type": "display_data"
    },
    {
     "data": {
      "text/html": [
       "<pre style=\"white-space:pre;overflow-x:auto;line-height:normal;font-family:Menlo,'DejaVu Sans Mono',consolas,'Courier New',monospace\">Requirement already satisfied: pyasn1-modules&gt;=0.2.1 in /opt/conda/lib/python3.10/site-packages (from google-auth!=2.1.*,!=2.2.*,!=2.3.0,!=2.3.1,&gt;=1.6.3-&gt;firecloud&gt;=0.16.35-&gt;lrmaCUX==0.0.2) (0.2.7)\n",
       "</pre>\n"
      ],
      "text/plain": [
       "Requirement already satisfied: pyasn1-modules>=0.2.1 in /opt/conda/lib/python3.10/site-packages (from google-auth!=2.1.*,!=2.2.*,!=2.3.0,!=2.3.1,>=1.6.3->firecloud>=0.16.35->lrmaCUX==0.0.2) (0.2.7)\n"
      ]
     },
     "metadata": {},
     "output_type": "display_data"
    },
    {
     "data": {
      "text/html": [
       "<pre style=\"white-space:pre;overflow-x:auto;line-height:normal;font-family:Menlo,'DejaVu Sans Mono',consolas,'Courier New',monospace\">Requirement already satisfied: rsa&lt;5,&gt;=3.1.4 in /opt/conda/lib/python3.10/site-packages (from google-auth!=2.1.*,!=2.2.*,!=2.3.0,!=2.3.1,&gt;=1.6.3-&gt;firecloud&gt;=0.16.35-&gt;lrmaCUX==0.0.2) (4.9)\n",
       "</pre>\n"
      ],
      "text/plain": [
       "Requirement already satisfied: rsa<5,>=3.1.4 in /opt/conda/lib/python3.10/site-packages (from google-auth!=2.1.*,!=2.2.*,!=2.3.0,!=2.3.1,>=1.6.3->firecloud>=0.16.35->lrmaCUX==0.0.2) (4.9)\n"
      ]
     },
     "metadata": {},
     "output_type": "display_data"
    },
    {
     "data": {
      "text/html": [
       "<pre style=\"white-space:pre;overflow-x:auto;line-height:normal;font-family:Menlo,'DejaVu Sans Mono',consolas,'Courier New',monospace\">Requirement already satisfied: jupyter-client&gt;=6.1.12 in /opt/conda/lib/python3.10/site-packages (from nbclient&gt;=0.2.0-&gt;papermill&gt;=2.4.0-&gt;lrmaCUX==0.0.2) (7.4.9)\n",
       "</pre>\n"
      ],
      "text/plain": [
       "Requirement already satisfied: jupyter-client>=6.1.12 in /opt/conda/lib/python3.10/site-packages (from nbclient>=0.2.0->papermill>=2.4.0->lrmaCUX==0.0.2) (7.4.9)\n"
      ]
     },
     "metadata": {},
     "output_type": "display_data"
    },
    {
     "data": {
      "text/html": [
       "<pre style=\"white-space:pre;overflow-x:auto;line-height:normal;font-family:Menlo,'DejaVu Sans Mono',consolas,'Courier New',monospace\">Requirement already satisfied: jupyter-core!=5.0.*,&gt;=4.12 in /opt/conda/lib/python3.10/site-packages (from nbclient&gt;=0.2.0-&gt;papermill&gt;=2.4.0-&gt;lrmaCUX==0.0.2) (5.3.1)\n",
       "</pre>\n"
      ],
      "text/plain": [
       "Requirement already satisfied: jupyter-core!=5.0.*,>=4.12 in /opt/conda/lib/python3.10/site-packages (from nbclient>=0.2.0->papermill>=2.4.0->lrmaCUX==0.0.2) (5.3.1)\n"
      ]
     },
     "metadata": {},
     "output_type": "display_data"
    },
    {
     "data": {
      "text/html": [
       "<pre style=\"white-space:pre;overflow-x:auto;line-height:normal;font-family:Menlo,'DejaVu Sans Mono',consolas,'Courier New',monospace\">Requirement already satisfied: traitlets&gt;=5.4 in /opt/conda/lib/python3.10/site-packages (from nbclient&gt;=0.2.0-&gt;papermill&gt;=2.4.0-&gt;lrmaCUX==0.0.2) (5.9.0)\n",
       "</pre>\n"
      ],
      "text/plain": [
       "Requirement already satisfied: traitlets>=5.4 in /opt/conda/lib/python3.10/site-packages (from nbclient>=0.2.0->papermill>=2.4.0->lrmaCUX==0.0.2) (5.9.0)\n"
      ]
     },
     "metadata": {},
     "output_type": "display_data"
    },
    {
     "data": {
      "text/html": [
       "<pre style=\"white-space:pre;overflow-x:auto;line-height:normal;font-family:Menlo,'DejaVu Sans Mono',consolas,'Courier New',monospace\">Requirement already satisfied: fastjsonschema in /opt/conda/lib/python3.10/site-packages (from nbformat&gt;=5.1.2-&gt;papermill&gt;=2.4.0-&gt;lrmaCUX==0.0.2) (2.18.0)\n",
       "</pre>\n"
      ],
      "text/plain": [
       "Requirement already satisfied: fastjsonschema in /opt/conda/lib/python3.10/site-packages (from nbformat>=5.1.2->papermill>=2.4.0->lrmaCUX==0.0.2) (2.18.0)\n"
      ]
     },
     "metadata": {},
     "output_type": "display_data"
    },
    {
     "data": {
      "text/html": [
       "<pre style=\"white-space:pre;overflow-x:auto;line-height:normal;font-family:Menlo,'DejaVu Sans Mono',consolas,'Courier New',monospace\">Requirement already satisfied: jsonschema&gt;=2.6 in /opt/conda/lib/python3.10/site-packages (from nbformat&gt;=5.1.2-&gt;papermill&gt;=2.4.0-&gt;lrmaCUX==0.0.2) (4.19.0)\n",
       "</pre>\n"
      ],
      "text/plain": [
       "Requirement already satisfied: jsonschema>=2.6 in /opt/conda/lib/python3.10/site-packages (from nbformat>=5.1.2->papermill>=2.4.0->lrmaCUX==0.0.2) (4.19.0)\n"
      ]
     },
     "metadata": {},
     "output_type": "display_data"
    },
    {
     "data": {
      "text/html": [
       "<pre style=\"white-space:pre;overflow-x:auto;line-height:normal;font-family:Menlo,'DejaVu Sans Mono',consolas,'Courier New',monospace\">Requirement already satisfied: platformdirs&gt;=2.2.0 in /opt/conda/lib/python3.10/site-packages (from pylint&gt;=1.9.5-&gt;firecloud&gt;=0.16.35-&gt;lrmaCUX==0.0.2) (3.10.0)\n",
       "</pre>\n"
      ],
      "text/plain": [
       "Requirement already satisfied: platformdirs>=2.2.0 in /opt/conda/lib/python3.10/site-packages (from pylint>=1.9.5->firecloud>=0.16.35->lrmaCUX==0.0.2) (3.10.0)\n"
      ]
     },
     "metadata": {},
     "output_type": "display_data"
    },
    {
     "data": {
      "text/html": [
       "<pre style=\"white-space:pre;overflow-x:auto;line-height:normal;font-family:Menlo,'DejaVu Sans Mono',consolas,'Courier New',monospace\">Requirement already satisfied: astroid&lt;=3.1.0-dev0,&gt;=3.0.0 in /opt/conda/lib/python3.10/site-packages (from pylint&gt;=1.9.5-&gt;firecloud&gt;=0.16.35-&gt;lrmaCUX==0.0.2) (3.0.0)\n",
       "</pre>\n"
      ],
      "text/plain": [
       "Requirement already satisfied: astroid<=3.1.0-dev0,>=3.0.0 in /opt/conda/lib/python3.10/site-packages (from pylint>=1.9.5->firecloud>=0.16.35->lrmaCUX==0.0.2) (3.0.0)\n"
      ]
     },
     "metadata": {},
     "output_type": "display_data"
    },
    {
     "data": {
      "text/html": [
       "<pre style=\"white-space:pre;overflow-x:auto;line-height:normal;font-family:Menlo,'DejaVu Sans Mono',consolas,'Courier New',monospace\">Requirement already satisfied: isort&lt;6,&gt;=4.2.5 in /opt/conda/lib/python3.10/site-packages (from pylint&gt;=1.9.5-&gt;firecloud&gt;=0.16.35-&gt;lrmaCUX==0.0.2) (5.12.0)\n",
       "</pre>\n"
      ],
      "text/plain": [
       "Requirement already satisfied: isort<6,>=4.2.5 in /opt/conda/lib/python3.10/site-packages (from pylint>=1.9.5->firecloud>=0.16.35->lrmaCUX==0.0.2) (5.12.0)\n"
      ]
     },
     "metadata": {},
     "output_type": "display_data"
    },
    {
     "data": {
      "text/html": [
       "<pre style=\"white-space:pre;overflow-x:auto;line-height:normal;font-family:Menlo,'DejaVu Sans Mono',consolas,'Courier New',monospace\">Requirement already satisfied: mccabe&lt;0.8,&gt;=0.6 in /opt/conda/lib/python3.10/site-packages (from pylint&gt;=1.9.5-&gt;firecloud&gt;=0.16.35-&gt;lrmaCUX==0.0.2) (0.7.0)\n",
       "</pre>\n"
      ],
      "text/plain": [
       "Requirement already satisfied: mccabe<0.8,>=0.6 in /opt/conda/lib/python3.10/site-packages (from pylint>=1.9.5->firecloud>=0.16.35->lrmaCUX==0.0.2) (0.7.0)\n"
      ]
     },
     "metadata": {},
     "output_type": "display_data"
    },
    {
     "data": {
      "text/html": [
       "<pre style=\"white-space:pre;overflow-x:auto;line-height:normal;font-family:Menlo,'DejaVu Sans Mono',consolas,'Courier New',monospace\">Requirement already satisfied: tomlkit&gt;=0.10.1 in /opt/conda/lib/python3.10/site-packages (from pylint&gt;=1.9.5-&gt;firecloud&gt;=0.16.35-&gt;lrmaCUX==0.0.2) (0.12.1)\n",
       "</pre>\n"
      ],
      "text/plain": [
       "Requirement already satisfied: tomlkit>=0.10.1 in /opt/conda/lib/python3.10/site-packages (from pylint>=1.9.5->firecloud>=0.16.35->lrmaCUX==0.0.2) (0.12.1)\n"
      ]
     },
     "metadata": {},
     "output_type": "display_data"
    },
    {
     "data": {
      "text/html": [
       "<pre style=\"white-space:pre;overflow-x:auto;line-height:normal;font-family:Menlo,'DejaVu Sans Mono',consolas,'Courier New',monospace\">Requirement already satisfied: dill&gt;=0.2 in /opt/conda/lib/python3.10/site-packages (from pylint&gt;=1.9.5-&gt;firecloud&gt;=0.16.35-&gt;lrmaCUX==0.0.2) (0.3.1.1)\n",
       "</pre>\n"
      ],
      "text/plain": [
       "Requirement already satisfied: dill>=0.2 in /opt/conda/lib/python3.10/site-packages (from pylint>=1.9.5->firecloud>=0.16.35->lrmaCUX==0.0.2) (0.3.1.1)\n"
      ]
     },
     "metadata": {},
     "output_type": "display_data"
    },
    {
     "data": {
      "text/html": [
       "<pre style=\"white-space:pre;overflow-x:auto;line-height:normal;font-family:Menlo,'DejaVu Sans Mono',consolas,'Courier New',monospace\">Requirement already satisfied: tomli&gt;=1.1.0 in /opt/conda/lib/python3.10/site-packages (from pylint&gt;=1.9.5-&gt;firecloud&gt;=0.16.35-&gt;lrmaCUX==0.0.2) (2.0.1)\n",
       "</pre>\n"
      ],
      "text/plain": [
       "Requirement already satisfied: tomli>=1.1.0 in /opt/conda/lib/python3.10/site-packages (from pylint>=1.9.5->firecloud>=0.16.35->lrmaCUX==0.0.2) (2.0.1)\n"
      ]
     },
     "metadata": {},
     "output_type": "display_data"
    },
    {
     "data": {
      "text/html": [
       "<pre style=\"white-space:pre;overflow-x:auto;line-height:normal;font-family:Menlo,'DejaVu Sans Mono',consolas,'Courier New',monospace\">Requirement already satisfied: idna&lt;4,&gt;=2.5 in /opt/conda/lib/python3.10/site-packages (from requests[security]-&gt;firecloud&gt;=0.16.35-&gt;lrmaCUX==0.0.2) (3.4)\n",
       "</pre>\n"
      ],
      "text/plain": [
       "Requirement already satisfied: idna<4,>=2.5 in /opt/conda/lib/python3.10/site-packages (from requests[security]->firecloud>=0.16.35->lrmaCUX==0.0.2) (3.4)\n"
      ]
     },
     "metadata": {},
     "output_type": "display_data"
    },
    {
     "data": {
      "text/html": [
       "<pre style=\"white-space:pre;overflow-x:auto;line-height:normal;font-family:Menlo,'DejaVu Sans Mono',consolas,'Courier New',monospace\">Requirement already satisfied: urllib3&lt;1.27,&gt;=1.21.1 in /opt/conda/lib/python3.10/site-packages (from requests[security]-&gt;firecloud&gt;=0.16.35-&gt;lrmaCUX==0.0.2) (1.26.15)\n",
       "</pre>\n"
      ],
      "text/plain": [
       "Requirement already satisfied: urllib3<1.27,>=1.21.1 in /opt/conda/lib/python3.10/site-packages (from requests[security]->firecloud>=0.16.35->lrmaCUX==0.0.2) (1.26.15)\n"
      ]
     },
     "metadata": {},
     "output_type": "display_data"
    },
    {
     "data": {
      "text/html": [
       "<pre style=\"white-space:pre;overflow-x:auto;line-height:normal;font-family:Menlo,'DejaVu Sans Mono',consolas,'Courier New',monospace\">Requirement already satisfied: certifi&gt;=2017.4.17 in /opt/conda/lib/python3.10/site-packages (from requests[security]-&gt;firecloud&gt;=0.16.35-&gt;lrmaCUX==0.0.2) (2023.11.17)\n",
       "</pre>\n"
      ],
      "text/plain": [
       "Requirement already satisfied: certifi>=2017.4.17 in /opt/conda/lib/python3.10/site-packages (from requests[security]->firecloud>=0.16.35->lrmaCUX==0.0.2) (2023.11.17)\n"
      ]
     },
     "metadata": {},
     "output_type": "display_data"
    },
    {
     "data": {
      "text/html": [
       "<pre style=\"white-space:pre;overflow-x:auto;line-height:normal;font-family:Menlo,'DejaVu Sans Mono',consolas,'Courier New',monospace\">Requirement already satisfied: textwrap3&gt;=0.9.2 in /opt/conda/lib/python3.10/site-packages (from ansiwrap-&gt;papermill&gt;=2.4.0-&gt;lrmaCUX==0.0.2) (0.9.2)\n",
       "</pre>\n"
      ],
      "text/plain": [
       "Requirement already satisfied: textwrap3>=0.9.2 in /opt/conda/lib/python3.10/site-packages (from ansiwrap->papermill>=2.4.0->lrmaCUX==0.0.2) (0.9.2)\n"
      ]
     },
     "metadata": {},
     "output_type": "display_data"
    },
    {
     "data": {
      "text/html": [
       "<pre style=\"white-space:pre;overflow-x:auto;line-height:normal;font-family:Menlo,'DejaVu Sans Mono',consolas,'Courier New',monospace\">Requirement already satisfied: requests-oauthlib&gt;=0.7.0 in /opt/conda/lib/python3.10/site-packages (from google-auth-oauthlib-&gt;gcsfs&gt;=2023.9.2-&gt;lrmaCUX==0.0.2) (1.3.1)\n",
       "</pre>\n"
      ],
      "text/plain": [
       "Requirement already satisfied: requests-oauthlib>=0.7.0 in /opt/conda/lib/python3.10/site-packages (from google-auth-oauthlib->gcsfs>=2023.9.2->lrmaCUX==0.0.2) (1.3.1)\n"
      ]
     },
     "metadata": {},
     "output_type": "display_data"
    },
    {
     "data": {
      "text/html": [
       "<pre style=\"white-space:pre;overflow-x:auto;line-height:normal;font-family:Menlo,'DejaVu Sans Mono',consolas,'Courier New',monospace\">Requirement already satisfied: comm&gt;=0.1.1 in /opt/conda/lib/python3.10/site-packages (from ipykernel-&gt;ipynbname&gt;=2023.2.0.0-&gt;lrmaCUX==0.0.2) (0.1.4)\n",
       "</pre>\n"
      ],
      "text/plain": [
       "Requirement already satisfied: comm>=0.1.1 in /opt/conda/lib/python3.10/site-packages (from ipykernel->ipynbname>=2023.2.0.0->lrmaCUX==0.0.2) (0.1.4)\n"
      ]
     },
     "metadata": {},
     "output_type": "display_data"
    },
    {
     "data": {
      "text/html": [
       "<pre style=\"white-space:pre;overflow-x:auto;line-height:normal;font-family:Menlo,'DejaVu Sans Mono',consolas,'Courier New',monospace\">Requirement already satisfied: debugpy&gt;=1.6.5 in /opt/conda/lib/python3.10/site-packages (from ipykernel-&gt;ipynbname&gt;=2023.2.0.0-&gt;lrmaCUX==0.0.2) (1.6.7.post1)\n",
       "</pre>\n"
      ],
      "text/plain": [
       "Requirement already satisfied: debugpy>=1.6.5 in /opt/conda/lib/python3.10/site-packages (from ipykernel->ipynbname>=2023.2.0.0->lrmaCUX==0.0.2) (1.6.7.post1)\n"
      ]
     },
     "metadata": {},
     "output_type": "display_data"
    },
    {
     "data": {
      "text/html": [
       "<pre style=\"white-space:pre;overflow-x:auto;line-height:normal;font-family:Menlo,'DejaVu Sans Mono',consolas,'Courier New',monospace\">Requirement already satisfied: ipython&gt;=7.23.1 in /opt/conda/lib/python3.10/site-packages (from ipykernel-&gt;ipynbname&gt;=2023.2.0.0-&gt;lrmaCUX==0.0.2) (8.14.0)\n",
       "</pre>\n"
      ],
      "text/plain": [
       "Requirement already satisfied: ipython>=7.23.1 in /opt/conda/lib/python3.10/site-packages (from ipykernel->ipynbname>=2023.2.0.0->lrmaCUX==0.0.2) (8.14.0)\n"
      ]
     },
     "metadata": {},
     "output_type": "display_data"
    },
    {
     "data": {
      "text/html": [
       "<pre style=\"white-space:pre;overflow-x:auto;line-height:normal;font-family:Menlo,'DejaVu Sans Mono',consolas,'Courier New',monospace\">Requirement already satisfied: matplotlib-inline&gt;=0.1 in /opt/conda/lib/python3.10/site-packages (from ipykernel-&gt;ipynbname&gt;=2023.2.0.0-&gt;lrmaCUX==0.0.2) (0.1.6)\n",
       "</pre>\n"
      ],
      "text/plain": [
       "Requirement already satisfied: matplotlib-inline>=0.1 in /opt/conda/lib/python3.10/site-packages (from ipykernel->ipynbname>=2023.2.0.0->lrmaCUX==0.0.2) (0.1.6)\n"
      ]
     },
     "metadata": {},
     "output_type": "display_data"
    },
    {
     "data": {
      "text/html": [
       "<pre style=\"white-space:pre;overflow-x:auto;line-height:normal;font-family:Menlo,'DejaVu Sans Mono',consolas,'Courier New',monospace\">Requirement already satisfied: nest-asyncio in /opt/conda/lib/python3.10/site-packages (from ipykernel-&gt;ipynbname&gt;=2023.2.0.0-&gt;lrmaCUX==0.0.2) (1.5.6)\n",
       "</pre>\n"
      ],
      "text/plain": [
       "Requirement already satisfied: nest-asyncio in /opt/conda/lib/python3.10/site-packages (from ipykernel->ipynbname>=2023.2.0.0->lrmaCUX==0.0.2) (1.5.6)\n"
      ]
     },
     "metadata": {},
     "output_type": "display_data"
    },
    {
     "data": {
      "text/html": [
       "<pre style=\"white-space:pre;overflow-x:auto;line-height:normal;font-family:Menlo,'DejaVu Sans Mono',consolas,'Courier New',monospace\">Requirement already satisfied: packaging in /opt/conda/lib/python3.10/site-packages (from ipykernel-&gt;ipynbname&gt;=2023.2.0.0-&gt;lrmaCUX==0.0.2) (21.3)\n",
       "</pre>\n"
      ],
      "text/plain": [
       "Requirement already satisfied: packaging in /opt/conda/lib/python3.10/site-packages (from ipykernel->ipynbname>=2023.2.0.0->lrmaCUX==0.0.2) (21.3)\n"
      ]
     },
     "metadata": {},
     "output_type": "display_data"
    },
    {
     "data": {
      "text/html": [
       "<pre style=\"white-space:pre;overflow-x:auto;line-height:normal;font-family:Menlo,'DejaVu Sans Mono',consolas,'Courier New',monospace\">Requirement already satisfied: psutil in /opt/conda/lib/python3.10/site-packages (from ipykernel-&gt;ipynbname&gt;=2023.2.0.0-&gt;lrmaCUX==0.0.2) (5.9.3)\n",
       "</pre>\n"
      ],
      "text/plain": [
       "Requirement already satisfied: psutil in /opt/conda/lib/python3.10/site-packages (from ipykernel->ipynbname>=2023.2.0.0->lrmaCUX==0.0.2) (5.9.3)\n"
      ]
     },
     "metadata": {},
     "output_type": "display_data"
    },
    {
     "data": {
      "text/html": [
       "<pre style=\"white-space:pre;overflow-x:auto;line-height:normal;font-family:Menlo,'DejaVu Sans Mono',consolas,'Courier New',monospace\">Requirement already satisfied: pyzmq&gt;=20 in /opt/conda/lib/python3.10/site-packages (from ipykernel-&gt;ipynbname&gt;=2023.2.0.0-&gt;lrmaCUX==0.0.2) (24.0.1)\n",
       "</pre>\n"
      ],
      "text/plain": [
       "Requirement already satisfied: pyzmq>=20 in /opt/conda/lib/python3.10/site-packages (from ipykernel->ipynbname>=2023.2.0.0->lrmaCUX==0.0.2) (24.0.1)\n"
      ]
     },
     "metadata": {},
     "output_type": "display_data"
    },
    {
     "data": {
      "text/html": [
       "<pre style=\"white-space:pre;overflow-x:auto;line-height:normal;font-family:Menlo,'DejaVu Sans Mono',consolas,'Courier New',monospace\">Requirement already satisfied: tornado&gt;=6.1 in /opt/conda/lib/python3.10/site-packages (from ipykernel-&gt;ipynbname&gt;=2023.2.0.0-&gt;lrmaCUX==0.0.2) (6.3.3)\n",
       "</pre>\n"
      ],
      "text/plain": [
       "Requirement already satisfied: tornado>=6.1 in /opt/conda/lib/python3.10/site-packages (from ipykernel->ipynbname>=2023.2.0.0->lrmaCUX==0.0.2) (6.3.3)\n"
      ]
     },
     "metadata": {},
     "output_type": "display_data"
    },
    {
     "data": {
      "text/html": [
       "<pre style=\"white-space:pre;overflow-x:auto;line-height:normal;font-family:Menlo,'DejaVu Sans Mono',consolas,'Courier New',monospace\">Requirement already satisfied: widgetsnbextension~=4.0.7 in /opt/conda/lib/python3.10/site-packages (from ipywidgets-&gt;jupyter&gt;=1.0.0-&gt;lrmaCUX==0.0.2) (4.0.8)\n",
       "</pre>\n"
      ],
      "text/plain": [
       "Requirement already satisfied: widgetsnbextension~=4.0.7 in /opt/conda/lib/python3.10/site-packages (from ipywidgets->jupyter>=1.0.0->lrmaCUX==0.0.2) (4.0.8)\n"
      ]
     },
     "metadata": {},
     "output_type": "display_data"
    },
    {
     "data": {
      "text/html": [
       "<pre style=\"white-space:pre;overflow-x:auto;line-height:normal;font-family:Menlo,'DejaVu Sans Mono',consolas,'Courier New',monospace\">Requirement already satisfied: jupyterlab-widgets~=3.0.7 in /opt/conda/lib/python3.10/site-packages (from ipywidgets-&gt;jupyter&gt;=1.0.0-&gt;lrmaCUX==0.0.2) (3.0.8)\n",
       "</pre>\n"
      ],
      "text/plain": [
       "Requirement already satisfied: jupyterlab-widgets~=3.0.7 in /opt/conda/lib/python3.10/site-packages (from ipywidgets->jupyter>=1.0.0->lrmaCUX==0.0.2) (3.0.8)\n"
      ]
     },
     "metadata": {},
     "output_type": "display_data"
    },
    {
     "data": {
      "text/html": [
       "<pre style=\"white-space:pre;overflow-x:auto;line-height:normal;font-family:Menlo,'DejaVu Sans Mono',consolas,'Courier New',monospace\">Requirement already satisfied: prompt-toolkit&gt;=3.0.30 in /opt/conda/lib/python3.10/site-packages (from jupyter-console-&gt;jupyter&gt;=1.0.0-&gt;lrmaCUX==0.0.2) (3.0.39)\n",
       "</pre>\n"
      ],
      "text/plain": [
       "Requirement already satisfied: prompt-toolkit>=3.0.30 in /opt/conda/lib/python3.10/site-packages (from jupyter-console->jupyter>=1.0.0->lrmaCUX==0.0.2) (3.0.39)\n"
      ]
     },
     "metadata": {},
     "output_type": "display_data"
    },
    {
     "data": {
      "text/html": [
       "<pre style=\"white-space:pre;overflow-x:auto;line-height:normal;font-family:Menlo,'DejaVu Sans Mono',consolas,'Courier New',monospace\">Requirement already satisfied: pygments in /opt/conda/lib/python3.10/site-packages (from jupyter-console-&gt;jupyter&gt;=1.0.0-&gt;lrmaCUX==0.0.2) (2.16.1)\n",
       "</pre>\n"
      ],
      "text/plain": [
       "Requirement already satisfied: pygments in /opt/conda/lib/python3.10/site-packages (from jupyter-console->jupyter>=1.0.0->lrmaCUX==0.0.2) (2.16.1)\n"
      ]
     },
     "metadata": {},
     "output_type": "display_data"
    },
    {
     "data": {
      "text/html": [
       "<pre style=\"white-space:pre;overflow-x:auto;line-height:normal;font-family:Menlo,'DejaVu Sans Mono',consolas,'Courier New',monospace\">Requirement already satisfied: beautifulsoup4 in /opt/conda/lib/python3.10/site-packages (from nbconvert-&gt;jupyter&gt;=1.0.0-&gt;lrmaCUX==0.0.2) (4.12.2)\n",
       "</pre>\n"
      ],
      "text/plain": [
       "Requirement already satisfied: beautifulsoup4 in /opt/conda/lib/python3.10/site-packages (from nbconvert->jupyter>=1.0.0->lrmaCUX==0.0.2) (4.12.2)\n"
      ]
     },
     "metadata": {},
     "output_type": "display_data"
    },
    {
     "data": {
      "text/html": [
       "<pre style=\"white-space:pre;overflow-x:auto;line-height:normal;font-family:Menlo,'DejaVu Sans Mono',consolas,'Courier New',monospace\">Requirement already satisfied: bleach!=5.0.0 in /opt/conda/lib/python3.10/site-packages (from nbconvert-&gt;jupyter&gt;=1.0.0-&gt;lrmaCUX==0.0.2) (6.0.0)\n",
       "</pre>\n"
      ],
      "text/plain": [
       "Requirement already satisfied: bleach!=5.0.0 in /opt/conda/lib/python3.10/site-packages (from nbconvert->jupyter>=1.0.0->lrmaCUX==0.0.2) (6.0.0)\n"
      ]
     },
     "metadata": {},
     "output_type": "display_data"
    },
    {
     "data": {
      "text/html": [
       "<pre style=\"white-space:pre;overflow-x:auto;line-height:normal;font-family:Menlo,'DejaVu Sans Mono',consolas,'Courier New',monospace\">Requirement already satisfied: defusedxml in /opt/conda/lib/python3.10/site-packages (from nbconvert-&gt;jupyter&gt;=1.0.0-&gt;lrmaCUX==0.0.2) (0.7.1)\n",
       "</pre>\n"
      ],
      "text/plain": [
       "Requirement already satisfied: defusedxml in /opt/conda/lib/python3.10/site-packages (from nbconvert->jupyter>=1.0.0->lrmaCUX==0.0.2) (0.7.1)\n"
      ]
     },
     "metadata": {},
     "output_type": "display_data"
    },
    {
     "data": {
      "text/html": [
       "<pre style=\"white-space:pre;overflow-x:auto;line-height:normal;font-family:Menlo,'DejaVu Sans Mono',consolas,'Courier New',monospace\">Requirement already satisfied: jinja2&gt;=3.0 in /opt/conda/lib/python3.10/site-packages (from nbconvert-&gt;jupyter&gt;=1.0.0-&gt;lrmaCUX==0.0.2) (3.1.2)\n",
       "</pre>\n"
      ],
      "text/plain": [
       "Requirement already satisfied: jinja2>=3.0 in /opt/conda/lib/python3.10/site-packages (from nbconvert->jupyter>=1.0.0->lrmaCUX==0.0.2) (3.1.2)\n"
      ]
     },
     "metadata": {},
     "output_type": "display_data"
    },
    {
     "data": {
      "text/html": [
       "<pre style=\"white-space:pre;overflow-x:auto;line-height:normal;font-family:Menlo,'DejaVu Sans Mono',consolas,'Courier New',monospace\">Requirement already satisfied: jupyterlab-pygments in /opt/conda/lib/python3.10/site-packages (from nbconvert-&gt;jupyter&gt;=1.0.0-&gt;lrmaCUX==0.0.2) (0.2.2)\n",
       "</pre>\n"
      ],
      "text/plain": [
       "Requirement already satisfied: jupyterlab-pygments in /opt/conda/lib/python3.10/site-packages (from nbconvert->jupyter>=1.0.0->lrmaCUX==0.0.2) (0.2.2)\n"
      ]
     },
     "metadata": {},
     "output_type": "display_data"
    },
    {
     "data": {
      "text/html": [
       "<pre style=\"white-space:pre;overflow-x:auto;line-height:normal;font-family:Menlo,'DejaVu Sans Mono',consolas,'Courier New',monospace\">Requirement already satisfied: markupsafe&gt;=2.0 in /opt/conda/lib/python3.10/site-packages (from nbconvert-&gt;jupyter&gt;=1.0.0-&gt;lrmaCUX==0.0.2) (2.1.2)\n",
       "</pre>\n"
      ],
      "text/plain": [
       "Requirement already satisfied: markupsafe>=2.0 in /opt/conda/lib/python3.10/site-packages (from nbconvert->jupyter>=1.0.0->lrmaCUX==0.0.2) (2.1.2)\n"
      ]
     },
     "metadata": {},
     "output_type": "display_data"
    },
    {
     "data": {
      "text/html": [
       "<pre style=\"white-space:pre;overflow-x:auto;line-height:normal;font-family:Menlo,'DejaVu Sans Mono',consolas,'Courier New',monospace\">Requirement already satisfied: mistune&lt;4,&gt;=2.0.3 in /opt/conda/lib/python3.10/site-packages (from nbconvert-&gt;jupyter&gt;=1.0.0-&gt;lrmaCUX==0.0.2) (3.0.1)\n",
       "</pre>\n"
      ],
      "text/plain": [
       "Requirement already satisfied: mistune<4,>=2.0.3 in /opt/conda/lib/python3.10/site-packages (from nbconvert->jupyter>=1.0.0->lrmaCUX==0.0.2) (3.0.1)\n"
      ]
     },
     "metadata": {},
     "output_type": "display_data"
    },
    {
     "data": {
      "text/html": [
       "<pre style=\"white-space:pre;overflow-x:auto;line-height:normal;font-family:Menlo,'DejaVu Sans Mono',consolas,'Courier New',monospace\">Requirement already satisfied: pandocfilters&gt;=1.4.1 in /opt/conda/lib/python3.10/site-packages (from nbconvert-&gt;jupyter&gt;=1.0.0-&gt;lrmaCUX==0.0.2) (1.5.0)\n",
       "</pre>\n"
      ],
      "text/plain": [
       "Requirement already satisfied: pandocfilters>=1.4.1 in /opt/conda/lib/python3.10/site-packages (from nbconvert->jupyter>=1.0.0->lrmaCUX==0.0.2) (1.5.0)\n"
      ]
     },
     "metadata": {},
     "output_type": "display_data"
    },
    {
     "data": {
      "text/html": [
       "<pre style=\"white-space:pre;overflow-x:auto;line-height:normal;font-family:Menlo,'DejaVu Sans Mono',consolas,'Courier New',monospace\">Requirement already satisfied: tinycss2 in /opt/conda/lib/python3.10/site-packages (from nbconvert-&gt;jupyter&gt;=1.0.0-&gt;lrmaCUX==0.0.2) (1.2.1)\n",
       "</pre>\n"
      ],
      "text/plain": [
       "Requirement already satisfied: tinycss2 in /opt/conda/lib/python3.10/site-packages (from nbconvert->jupyter>=1.0.0->lrmaCUX==0.0.2) (1.2.1)\n"
      ]
     },
     "metadata": {},
     "output_type": "display_data"
    },
    {
     "data": {
      "text/html": [
       "<pre style=\"white-space:pre;overflow-x:auto;line-height:normal;font-family:Menlo,'DejaVu Sans Mono',consolas,'Courier New',monospace\">Requirement already satisfied: argon2-cffi in /opt/conda/lib/python3.10/site-packages (from notebook-&gt;jupyter&gt;=1.0.0-&gt;lrmaCUX==0.0.2) (21.3.0)\n",
       "</pre>\n"
      ],
      "text/plain": [
       "Requirement already satisfied: argon2-cffi in /opt/conda/lib/python3.10/site-packages (from notebook->jupyter>=1.0.0->lrmaCUX==0.0.2) (21.3.0)\n"
      ]
     },
     "metadata": {},
     "output_type": "display_data"
    },
    {
     "data": {
      "text/html": [
       "<pre style=\"white-space:pre;overflow-x:auto;line-height:normal;font-family:Menlo,'DejaVu Sans Mono',consolas,'Courier New',monospace\">Requirement already satisfied: ipython-genutils in /opt/conda/lib/python3.10/site-packages (from notebook-&gt;jupyter&gt;=1.0.0-&gt;lrmaCUX==0.0.2) (0.2.0)\n",
       "</pre>\n"
      ],
      "text/plain": [
       "Requirement already satisfied: ipython-genutils in /opt/conda/lib/python3.10/site-packages (from notebook->jupyter>=1.0.0->lrmaCUX==0.0.2) (0.2.0)\n"
      ]
     },
     "metadata": {},
     "output_type": "display_data"
    },
    {
     "data": {
      "text/html": [
       "<pre style=\"white-space:pre;overflow-x:auto;line-height:normal;font-family:Menlo,'DejaVu Sans Mono',consolas,'Courier New',monospace\">Requirement already satisfied: Send2Trash&gt;=1.8.0 in /opt/conda/lib/python3.10/site-packages (from notebook-&gt;jupyter&gt;=1.0.0-&gt;lrmaCUX==0.0.2) (1.8.2)\n",
       "</pre>\n"
      ],
      "text/plain": [
       "Requirement already satisfied: Send2Trash>=1.8.0 in /opt/conda/lib/python3.10/site-packages (from notebook->jupyter>=1.0.0->lrmaCUX==0.0.2) (1.8.2)\n"
      ]
     },
     "metadata": {},
     "output_type": "display_data"
    },
    {
     "data": {
      "text/html": [
       "<pre style=\"white-space:pre;overflow-x:auto;line-height:normal;font-family:Menlo,'DejaVu Sans Mono',consolas,'Courier New',monospace\">Requirement already satisfied: terminado&gt;=0.8.3 in /opt/conda/lib/python3.10/site-packages (from notebook-&gt;jupyter&gt;=1.0.0-&gt;lrmaCUX==0.0.2) (0.17.1)\n",
       "</pre>\n"
      ],
      "text/plain": [
       "Requirement already satisfied: terminado>=0.8.3 in /opt/conda/lib/python3.10/site-packages (from notebook->jupyter>=1.0.0->lrmaCUX==0.0.2) (0.17.1)\n"
      ]
     },
     "metadata": {},
     "output_type": "display_data"
    },
    {
     "data": {
      "text/html": [
       "<pre style=\"white-space:pre;overflow-x:auto;line-height:normal;font-family:Menlo,'DejaVu Sans Mono',consolas,'Courier New',monospace\">Requirement already satisfied: prometheus-client in /opt/conda/lib/python3.10/site-packages (from notebook-&gt;jupyter&gt;=1.0.0-&gt;lrmaCUX==0.0.2) (0.17.1)\n",
       "</pre>\n"
      ],
      "text/plain": [
       "Requirement already satisfied: prometheus-client in /opt/conda/lib/python3.10/site-packages (from notebook->jupyter>=1.0.0->lrmaCUX==0.0.2) (0.17.1)\n"
      ]
     },
     "metadata": {},
     "output_type": "display_data"
    },
    {
     "data": {
      "text/html": [
       "<pre style=\"white-space:pre;overflow-x:auto;line-height:normal;font-family:Menlo,'DejaVu Sans Mono',consolas,'Courier New',monospace\">Requirement already satisfied: nbclassic&gt;=0.4.7 in /opt/conda/lib/python3.10/site-packages (from notebook-&gt;jupyter&gt;=1.0.0-&gt;lrmaCUX==0.0.2) (0.4.8)\n",
       "</pre>\n"
      ],
      "text/plain": [
       "Requirement already satisfied: nbclassic>=0.4.7 in /opt/conda/lib/python3.10/site-packages (from notebook->jupyter>=1.0.0->lrmaCUX==0.0.2) (0.4.8)\n"
      ]
     },
     "metadata": {},
     "output_type": "display_data"
    },
    {
     "data": {
      "text/html": [
       "<pre style=\"white-space:pre;overflow-x:auto;line-height:normal;font-family:Menlo,'DejaVu Sans Mono',consolas,'Courier New',monospace\">Requirement already satisfied: pyparsing&gt;=2.1.4 in /opt/conda/lib/python3.10/site-packages (from pydot-&gt;firecloud&gt;=0.16.35-&gt;lrmaCUX==0.0.2) (3.0.9)\n",
       "</pre>\n"
      ],
      "text/plain": [
       "Requirement already satisfied: pyparsing>=2.1.4 in /opt/conda/lib/python3.10/site-packages (from pydot->firecloud>=0.16.35->lrmaCUX==0.0.2) (3.0.9)\n"
      ]
     },
     "metadata": {},
     "output_type": "display_data"
    },
    {
     "data": {
      "text/html": [
       "<pre style=\"white-space:pre;overflow-x:auto;line-height:normal;font-family:Menlo,'DejaVu Sans Mono',consolas,'Courier New',monospace\">Requirement already satisfied: qtpy&gt;=2.4.0 in /home/jupyter/.local/lib/python3.10/site-packages (from qtconsole-&gt;jupyter&gt;=1.0.0-&gt;lrmaCUX==0.0.2) (2.4.1)\n",
       "</pre>\n"
      ],
      "text/plain": [
       "Requirement already satisfied: qtpy>=2.4.0 in /home/jupyter/.local/lib/python3.10/site-packages (from qtconsole->jupyter>=1.0.0->lrmaCUX==0.0.2) (2.4.1)\n"
      ]
     },
     "metadata": {},
     "output_type": "display_data"
    },
    {
     "data": {
      "text/html": [
       "<pre style=\"white-space:pre;overflow-x:auto;line-height:normal;font-family:Menlo,'DejaVu Sans Mono',consolas,'Courier New',monospace\">Requirement already satisfied: typing-extensions&gt;=4.0.0 in /opt/conda/lib/python3.10/site-packages (from astroid&lt;=3.1.0-dev0,&gt;=3.0.0-&gt;pylint&gt;=1.9.5-&gt;firecloud&gt;=0.16.35-&gt;lrmaCUX==0.0.2) (4.7.1)\n",
       "</pre>\n"
      ],
      "text/plain": [
       "Requirement already satisfied: typing-extensions>=4.0.0 in /opt/conda/lib/python3.10/site-packages (from astroid<=3.1.0-dev0,>=3.0.0->pylint>=1.9.5->firecloud>=0.16.35->lrmaCUX==0.0.2) (4.7.1)\n"
      ]
     },
     "metadata": {},
     "output_type": "display_data"
    },
    {
     "data": {
      "text/html": [
       "<pre style=\"white-space:pre;overflow-x:auto;line-height:normal;font-family:Menlo,'DejaVu Sans Mono',consolas,'Courier New',monospace\">Requirement already satisfied: webencodings in /opt/conda/lib/python3.10/site-packages (from bleach!=5.0.0-&gt;nbconvert-&gt;jupyter&gt;=1.0.0-&gt;lrmaCUX==0.0.2) (0.5.1)\n",
       "</pre>\n"
      ],
      "text/plain": [
       "Requirement already satisfied: webencodings in /opt/conda/lib/python3.10/site-packages (from bleach!=5.0.0->nbconvert->jupyter>=1.0.0->lrmaCUX==0.0.2) (0.5.1)\n"
      ]
     },
     "metadata": {},
     "output_type": "display_data"
    },
    {
     "data": {
      "text/html": [
       "<pre style=\"white-space:pre;overflow-x:auto;line-height:normal;font-family:Menlo,'DejaVu Sans Mono',consolas,'Courier New',monospace\">Requirement already satisfied: backcall in /opt/conda/lib/python3.10/site-packages (from ipython&gt;=7.23.1-&gt;ipykernel-&gt;ipynbname&gt;=2023.2.0.0-&gt;lrmaCUX==0.0.2) (0.2.0)\n",
       "</pre>\n"
      ],
      "text/plain": [
       "Requirement already satisfied: backcall in /opt/conda/lib/python3.10/site-packages (from ipython>=7.23.1->ipykernel->ipynbname>=2023.2.0.0->lrmaCUX==0.0.2) (0.2.0)\n"
      ]
     },
     "metadata": {},
     "output_type": "display_data"
    },
    {
     "data": {
      "text/html": [
       "<pre style=\"white-space:pre;overflow-x:auto;line-height:normal;font-family:Menlo,'DejaVu Sans Mono',consolas,'Courier New',monospace\">Requirement already satisfied: jedi&gt;=0.16 in /opt/conda/lib/python3.10/site-packages (from ipython&gt;=7.23.1-&gt;ipykernel-&gt;ipynbname&gt;=2023.2.0.0-&gt;lrmaCUX==0.0.2) (0.19.0)\n",
       "</pre>\n"
      ],
      "text/plain": [
       "Requirement already satisfied: jedi>=0.16 in /opt/conda/lib/python3.10/site-packages (from ipython>=7.23.1->ipykernel->ipynbname>=2023.2.0.0->lrmaCUX==0.0.2) (0.19.0)\n"
      ]
     },
     "metadata": {},
     "output_type": "display_data"
    },
    {
     "data": {
      "text/html": [
       "<pre style=\"white-space:pre;overflow-x:auto;line-height:normal;font-family:Menlo,'DejaVu Sans Mono',consolas,'Courier New',monospace\">Requirement already satisfied: pickleshare in /opt/conda/lib/python3.10/site-packages (from ipython&gt;=7.23.1-&gt;ipykernel-&gt;ipynbname&gt;=2023.2.0.0-&gt;lrmaCUX==0.0.2) (0.7.5)\n",
       "</pre>\n"
      ],
      "text/plain": [
       "Requirement already satisfied: pickleshare in /opt/conda/lib/python3.10/site-packages (from ipython>=7.23.1->ipykernel->ipynbname>=2023.2.0.0->lrmaCUX==0.0.2) (0.7.5)\n"
      ]
     },
     "metadata": {},
     "output_type": "display_data"
    },
    {
     "data": {
      "text/html": [
       "<pre style=\"white-space:pre;overflow-x:auto;line-height:normal;font-family:Menlo,'DejaVu Sans Mono',consolas,'Courier New',monospace\">Requirement already satisfied: stack-data in /opt/conda/lib/python3.10/site-packages (from ipython&gt;=7.23.1-&gt;ipykernel-&gt;ipynbname&gt;=2023.2.0.0-&gt;lrmaCUX==0.0.2) (0.6.2)\n",
       "</pre>\n"
      ],
      "text/plain": [
       "Requirement already satisfied: stack-data in /opt/conda/lib/python3.10/site-packages (from ipython>=7.23.1->ipykernel->ipynbname>=2023.2.0.0->lrmaCUX==0.0.2) (0.6.2)\n"
      ]
     },
     "metadata": {},
     "output_type": "display_data"
    },
    {
     "data": {
      "text/html": [
       "<pre style=\"white-space:pre;overflow-x:auto;line-height:normal;font-family:Menlo,'DejaVu Sans Mono',consolas,'Courier New',monospace\">Requirement already satisfied: pexpect&gt;4.3 in /opt/conda/lib/python3.10/site-packages (from ipython&gt;=7.23.1-&gt;ipykernel-&gt;ipynbname&gt;=2023.2.0.0-&gt;lrmaCUX==0.0.2) (4.8.0)\n",
       "</pre>\n"
      ],
      "text/plain": [
       "Requirement already satisfied: pexpect>4.3 in /opt/conda/lib/python3.10/site-packages (from ipython>=7.23.1->ipykernel->ipynbname>=2023.2.0.0->lrmaCUX==0.0.2) (4.8.0)\n"
      ]
     },
     "metadata": {},
     "output_type": "display_data"
    },
    {
     "data": {
      "text/html": [
       "<pre style=\"white-space:pre;overflow-x:auto;line-height:normal;font-family:Menlo,'DejaVu Sans Mono',consolas,'Courier New',monospace\">Requirement already satisfied: jsonschema-specifications&gt;=2023.03.6 in /opt/conda/lib/python3.10/site-packages (from jsonschema&gt;=2.6-&gt;nbformat&gt;=5.1.2-&gt;papermill&gt;=2.4.0-&gt;lrmaCUX==0.0.2) (2023.7.1)\n",
       "</pre>\n"
      ],
      "text/plain": [
       "Requirement already satisfied: jsonschema-specifications>=2023.03.6 in /opt/conda/lib/python3.10/site-packages (from jsonschema>=2.6->nbformat>=5.1.2->papermill>=2.4.0->lrmaCUX==0.0.2) (2023.7.1)\n"
      ]
     },
     "metadata": {},
     "output_type": "display_data"
    },
    {
     "data": {
      "text/html": [
       "<pre style=\"white-space:pre;overflow-x:auto;line-height:normal;font-family:Menlo,'DejaVu Sans Mono',consolas,'Courier New',monospace\">Requirement already satisfied: referencing&gt;=0.28.4 in /opt/conda/lib/python3.10/site-packages (from jsonschema&gt;=2.6-&gt;nbformat&gt;=5.1.2-&gt;papermill&gt;=2.4.0-&gt;lrmaCUX==0.0.2) (0.30.2)\n",
       "</pre>\n"
      ],
      "text/plain": [
       "Requirement already satisfied: referencing>=0.28.4 in /opt/conda/lib/python3.10/site-packages (from jsonschema>=2.6->nbformat>=5.1.2->papermill>=2.4.0->lrmaCUX==0.0.2) (0.30.2)\n"
      ]
     },
     "metadata": {},
     "output_type": "display_data"
    },
    {
     "data": {
      "text/html": [
       "<pre style=\"white-space:pre;overflow-x:auto;line-height:normal;font-family:Menlo,'DejaVu Sans Mono',consolas,'Courier New',monospace\">Requirement already satisfied: rpds-py&gt;=0.7.1 in /opt/conda/lib/python3.10/site-packages (from jsonschema&gt;=2.6-&gt;nbformat&gt;=5.1.2-&gt;papermill&gt;=2.4.0-&gt;lrmaCUX==0.0.2) (0.9.2)\n",
       "</pre>\n"
      ],
      "text/plain": [
       "Requirement already satisfied: rpds-py>=0.7.1 in /opt/conda/lib/python3.10/site-packages (from jsonschema>=2.6->nbformat>=5.1.2->papermill>=2.4.0->lrmaCUX==0.0.2) (0.9.2)\n"
      ]
     },
     "metadata": {},
     "output_type": "display_data"
    },
    {
     "data": {
      "text/html": [
       "<pre style=\"white-space:pre;overflow-x:auto;line-height:normal;font-family:Menlo,'DejaVu Sans Mono',consolas,'Courier New',monospace\">Requirement already satisfied: jupyter-server&gt;=1.8 in /opt/conda/lib/python3.10/site-packages (from nbclassic&gt;=0.4.7-&gt;notebook-&gt;jupyter&gt;=1.0.0-&gt;lrmaCUX==0.0.2) (1.24.0)\n",
       "</pre>\n"
      ],
      "text/plain": [
       "Requirement already satisfied: jupyter-server>=1.8 in /opt/conda/lib/python3.10/site-packages (from nbclassic>=0.4.7->notebook->jupyter>=1.0.0->lrmaCUX==0.0.2) (1.24.0)\n"
      ]
     },
     "metadata": {},
     "output_type": "display_data"
    },
    {
     "data": {
      "text/html": [
       "<pre style=\"white-space:pre;overflow-x:auto;line-height:normal;font-family:Menlo,'DejaVu Sans Mono',consolas,'Courier New',monospace\">Requirement already satisfied: notebook-shim&gt;=0.1.0 in /opt/conda/lib/python3.10/site-packages (from nbclassic&gt;=0.4.7-&gt;notebook-&gt;jupyter&gt;=1.0.0-&gt;lrmaCUX==0.0.2) (0.2.3)\n",
       "</pre>\n"
      ],
      "text/plain": [
       "Requirement already satisfied: notebook-shim>=0.1.0 in /opt/conda/lib/python3.10/site-packages (from nbclassic>=0.4.7->notebook->jupyter>=1.0.0->lrmaCUX==0.0.2) (0.2.3)\n"
      ]
     },
     "metadata": {},
     "output_type": "display_data"
    },
    {
     "data": {
      "text/html": [
       "<pre style=\"white-space:pre;overflow-x:auto;line-height:normal;font-family:Menlo,'DejaVu Sans Mono',consolas,'Courier New',monospace\">Requirement already satisfied: wcwidth in /opt/conda/lib/python3.10/site-packages (from prompt-toolkit&gt;=3.0.30-&gt;jupyter-console-&gt;jupyter&gt;=1.0.0-&gt;lrmaCUX==0.0.2) (0.2.6)\n",
       "</pre>\n"
      ],
      "text/plain": [
       "Requirement already satisfied: wcwidth in /opt/conda/lib/python3.10/site-packages (from prompt-toolkit>=3.0.30->jupyter-console->jupyter>=1.0.0->lrmaCUX==0.0.2) (0.2.6)\n"
      ]
     },
     "metadata": {},
     "output_type": "display_data"
    },
    {
     "data": {
      "text/html": [
       "<pre style=\"white-space:pre;overflow-x:auto;line-height:normal;font-family:Menlo,'DejaVu Sans Mono',consolas,'Courier New',monospace\">Requirement already satisfied: pyasn1&lt;0.5.0,&gt;=0.4.6 in /opt/conda/lib/python3.10/site-packages (from pyasn1-modules&gt;=0.2.1-&gt;google-auth!=2.1.*,!=2.2.*,!=2.3.0,!=2.3.1,&gt;=1.6.3-&gt;firecloud&gt;=0.16.35-&gt;lrmaCUX==0.0.2) (0.4.8)\n",
       "</pre>\n"
      ],
      "text/plain": [
       "Requirement already satisfied: pyasn1<0.5.0,>=0.4.6 in /opt/conda/lib/python3.10/site-packages (from pyasn1-modules>=0.2.1->google-auth!=2.1.*,!=2.2.*,!=2.3.0,!=2.3.1,>=1.6.3->firecloud>=0.16.35->lrmaCUX==0.0.2) (0.4.8)\n"
      ]
     },
     "metadata": {},
     "output_type": "display_data"
    },
    {
     "data": {
      "text/html": [
       "<pre style=\"white-space:pre;overflow-x:auto;line-height:normal;font-family:Menlo,'DejaVu Sans Mono',consolas,'Courier New',monospace\">Requirement already satisfied: oauthlib&gt;=3.0.0 in /opt/conda/lib/python3.10/site-packages (from requests-oauthlib&gt;=0.7.0-&gt;google-auth-oauthlib-&gt;gcsfs&gt;=2023.9.2-&gt;lrmaCUX==0.0.2) (3.2.2)\n",
       "</pre>\n"
      ],
      "text/plain": [
       "Requirement already satisfied: oauthlib>=3.0.0 in /opt/conda/lib/python3.10/site-packages (from requests-oauthlib>=0.7.0->google-auth-oauthlib->gcsfs>=2023.9.2->lrmaCUX==0.0.2) (3.2.2)\n"
      ]
     },
     "metadata": {},
     "output_type": "display_data"
    },
    {
     "data": {
      "text/html": [
       "<pre style=\"white-space:pre;overflow-x:auto;line-height:normal;font-family:Menlo,'DejaVu Sans Mono',consolas,'Courier New',monospace\">Requirement already satisfied: ptyprocess in /opt/conda/lib/python3.10/site-packages (from terminado&gt;=0.8.3-&gt;notebook-&gt;jupyter&gt;=1.0.0-&gt;lrmaCUX==0.0.2) (0.7.0)\n",
       "</pre>\n"
      ],
      "text/plain": [
       "Requirement already satisfied: ptyprocess in /opt/conda/lib/python3.10/site-packages (from terminado>=0.8.3->notebook->jupyter>=1.0.0->lrmaCUX==0.0.2) (0.7.0)\n"
      ]
     },
     "metadata": {},
     "output_type": "display_data"
    },
    {
     "data": {
      "text/html": [
       "<pre style=\"white-space:pre;overflow-x:auto;line-height:normal;font-family:Menlo,'DejaVu Sans Mono',consolas,'Courier New',monospace\">Requirement already satisfied: argon2-cffi-bindings in /opt/conda/lib/python3.10/site-packages (from argon2-cffi-&gt;notebook-&gt;jupyter&gt;=1.0.0-&gt;lrmaCUX==0.0.2) (21.2.0)\n",
       "</pre>\n"
      ],
      "text/plain": [
       "Requirement already satisfied: argon2-cffi-bindings in /opt/conda/lib/python3.10/site-packages (from argon2-cffi->notebook->jupyter>=1.0.0->lrmaCUX==0.0.2) (21.2.0)\n"
      ]
     },
     "metadata": {},
     "output_type": "display_data"
    },
    {
     "data": {
      "text/html": [
       "<pre style=\"white-space:pre;overflow-x:auto;line-height:normal;font-family:Menlo,'DejaVu Sans Mono',consolas,'Courier New',monospace\">Requirement already satisfied: soupsieve&gt;1.2 in /opt/conda/lib/python3.10/site-packages (from beautifulsoup4-&gt;nbconvert-&gt;jupyter&gt;=1.0.0-&gt;lrmaCUX==0.0.2) (2.3.2.post1)\n",
       "</pre>\n"
      ],
      "text/plain": [
       "Requirement already satisfied: soupsieve>1.2 in /opt/conda/lib/python3.10/site-packages (from beautifulsoup4->nbconvert->jupyter>=1.0.0->lrmaCUX==0.0.2) (2.3.2.post1)\n"
      ]
     },
     "metadata": {},
     "output_type": "display_data"
    },
    {
     "data": {
      "text/html": [
       "<pre style=\"white-space:pre;overflow-x:auto;line-height:normal;font-family:Menlo,'DejaVu Sans Mono',consolas,'Courier New',monospace\">Requirement already satisfied: parso&lt;0.9.0,&gt;=0.8.3 in /opt/conda/lib/python3.10/site-packages (from jedi&gt;=0.16-&gt;ipython&gt;=7.23.1-&gt;ipykernel-&gt;ipynbname&gt;=2023.2.0.0-&gt;lrmaCUX==0.0.2) (0.8.3)\n",
       "</pre>\n"
      ],
      "text/plain": [
       "Requirement already satisfied: parso<0.9.0,>=0.8.3 in /opt/conda/lib/python3.10/site-packages (from jedi>=0.16->ipython>=7.23.1->ipykernel->ipynbname>=2023.2.0.0->lrmaCUX==0.0.2) (0.8.3)\n"
      ]
     },
     "metadata": {},
     "output_type": "display_data"
    },
    {
     "data": {
      "text/html": [
       "<pre style=\"white-space:pre;overflow-x:auto;line-height:normal;font-family:Menlo,'DejaVu Sans Mono',consolas,'Courier New',monospace\">Requirement already satisfied: anyio&lt;4,&gt;=3.1.0 in /opt/conda/lib/python3.10/site-packages (from jupyter-server&gt;=1.8-&gt;nbclassic&gt;=0.4.7-&gt;notebook-&gt;jupyter&gt;=1.0.0-&gt;lrmaCUX==0.0.2) (3.7.1)\n",
       "</pre>\n"
      ],
      "text/plain": [
       "Requirement already satisfied: anyio<4,>=3.1.0 in /opt/conda/lib/python3.10/site-packages (from jupyter-server>=1.8->nbclassic>=0.4.7->notebook->jupyter>=1.0.0->lrmaCUX==0.0.2) (3.7.1)\n"
      ]
     },
     "metadata": {},
     "output_type": "display_data"
    },
    {
     "data": {
      "text/html": [
       "<pre style=\"white-space:pre;overflow-x:auto;line-height:normal;font-family:Menlo,'DejaVu Sans Mono',consolas,'Courier New',monospace\">Requirement already satisfied: websocket-client in /opt/conda/lib/python3.10/site-packages (from jupyter-server&gt;=1.8-&gt;nbclassic&gt;=0.4.7-&gt;notebook-&gt;jupyter&gt;=1.0.0-&gt;lrmaCUX==0.0.2) (1.6.2)\n",
       "</pre>\n"
      ],
      "text/plain": [
       "Requirement already satisfied: websocket-client in /opt/conda/lib/python3.10/site-packages (from jupyter-server>=1.8->nbclassic>=0.4.7->notebook->jupyter>=1.0.0->lrmaCUX==0.0.2) (1.6.2)\n"
      ]
     },
     "metadata": {},
     "output_type": "display_data"
    },
    {
     "data": {
      "text/html": [
       "<pre style=\"white-space:pre;overflow-x:auto;line-height:normal;font-family:Menlo,'DejaVu Sans Mono',consolas,'Courier New',monospace\">Requirement already satisfied: cffi&gt;=1.0.1 in /opt/conda/lib/python3.10/site-packages (from argon2-cffi-bindings-&gt;argon2-cffi-&gt;notebook-&gt;jupyter&gt;=1.0.0-&gt;lrmaCUX==0.0.2) (1.15.1)\n",
       "</pre>\n"
      ],
      "text/plain": [
       "Requirement already satisfied: cffi>=1.0.1 in /opt/conda/lib/python3.10/site-packages (from argon2-cffi-bindings->argon2-cffi->notebook->jupyter>=1.0.0->lrmaCUX==0.0.2) (1.15.1)\n"
      ]
     },
     "metadata": {},
     "output_type": "display_data"
    },
    {
     "data": {
      "text/html": [
       "<pre style=\"white-space:pre;overflow-x:auto;line-height:normal;font-family:Menlo,'DejaVu Sans Mono',consolas,'Courier New',monospace\">Requirement already satisfied: executing&gt;=1.2.0 in /opt/conda/lib/python3.10/site-packages (from stack-data-&gt;ipython&gt;=7.23.1-&gt;ipykernel-&gt;ipynbname&gt;=2023.2.0.0-&gt;lrmaCUX==0.0.2) (1.2.0)\n",
       "</pre>\n"
      ],
      "text/plain": [
       "Requirement already satisfied: executing>=1.2.0 in /opt/conda/lib/python3.10/site-packages (from stack-data->ipython>=7.23.1->ipykernel->ipynbname>=2023.2.0.0->lrmaCUX==0.0.2) (1.2.0)\n"
      ]
     },
     "metadata": {},
     "output_type": "display_data"
    },
    {
     "data": {
      "text/html": [
       "<pre style=\"white-space:pre;overflow-x:auto;line-height:normal;font-family:Menlo,'DejaVu Sans Mono',consolas,'Courier New',monospace\">Requirement already satisfied: asttokens&gt;=2.1.0 in /opt/conda/lib/python3.10/site-packages (from stack-data-&gt;ipython&gt;=7.23.1-&gt;ipykernel-&gt;ipynbname&gt;=2023.2.0.0-&gt;lrmaCUX==0.0.2) (2.2.1)\n",
       "</pre>\n"
      ],
      "text/plain": [
       "Requirement already satisfied: asttokens>=2.1.0 in /opt/conda/lib/python3.10/site-packages (from stack-data->ipython>=7.23.1->ipykernel->ipynbname>=2023.2.0.0->lrmaCUX==0.0.2) (2.2.1)\n"
      ]
     },
     "metadata": {},
     "output_type": "display_data"
    },
    {
     "data": {
      "text/html": [
       "<pre style=\"white-space:pre;overflow-x:auto;line-height:normal;font-family:Menlo,'DejaVu Sans Mono',consolas,'Courier New',monospace\">Requirement already satisfied: pure-eval in /opt/conda/lib/python3.10/site-packages (from stack-data-&gt;ipython&gt;=7.23.1-&gt;ipykernel-&gt;ipynbname&gt;=2023.2.0.0-&gt;lrmaCUX==0.0.2) (0.2.2)\n",
       "</pre>\n"
      ],
      "text/plain": [
       "Requirement already satisfied: pure-eval in /opt/conda/lib/python3.10/site-packages (from stack-data->ipython>=7.23.1->ipykernel->ipynbname>=2023.2.0.0->lrmaCUX==0.0.2) (0.2.2)\n"
      ]
     },
     "metadata": {},
     "output_type": "display_data"
    },
    {
     "data": {
      "text/html": [
       "<pre style=\"white-space:pre;overflow-x:auto;line-height:normal;font-family:Menlo,'DejaVu Sans Mono',consolas,'Courier New',monospace\">Requirement already satisfied: sniffio&gt;=1.1 in /opt/conda/lib/python3.10/site-packages (from anyio&lt;4,&gt;=3.1.0-&gt;jupyter-server&gt;=1.8-&gt;nbclassic&gt;=0.4.7-&gt;notebook-&gt;jupyter&gt;=1.0.0-&gt;lrmaCUX==0.0.2) (1.3.0)\n",
       "</pre>\n"
      ],
      "text/plain": [
       "Requirement already satisfied: sniffio>=1.1 in /opt/conda/lib/python3.10/site-packages (from anyio<4,>=3.1.0->jupyter-server>=1.8->nbclassic>=0.4.7->notebook->jupyter>=1.0.0->lrmaCUX==0.0.2) (1.3.0)\n"
      ]
     },
     "metadata": {},
     "output_type": "display_data"
    },
    {
     "data": {
      "text/html": [
       "<pre style=\"white-space:pre;overflow-x:auto;line-height:normal;font-family:Menlo,'DejaVu Sans Mono',consolas,'Courier New',monospace\">Requirement already satisfied: exceptiongroup in /opt/conda/lib/python3.10/site-packages (from anyio&lt;4,&gt;=3.1.0-&gt;jupyter-server&gt;=1.8-&gt;nbclassic&gt;=0.4.7-&gt;notebook-&gt;jupyter&gt;=1.0.0-&gt;lrmaCUX==0.0.2) (1.1.3)\n",
       "</pre>\n"
      ],
      "text/plain": [
       "Requirement already satisfied: exceptiongroup in /opt/conda/lib/python3.10/site-packages (from anyio<4,>=3.1.0->jupyter-server>=1.8->nbclassic>=0.4.7->notebook->jupyter>=1.0.0->lrmaCUX==0.0.2) (1.1.3)\n"
      ]
     },
     "metadata": {},
     "output_type": "display_data"
    },
    {
     "data": {
      "text/html": [
       "<pre style=\"white-space:pre;overflow-x:auto;line-height:normal;font-family:Menlo,'DejaVu Sans Mono',consolas,'Courier New',monospace\">Requirement already satisfied: pycparser in /opt/conda/lib/python3.10/site-packages (from cffi&gt;=1.0.1-&gt;argon2-cffi-bindings-&gt;argon2-cffi-&gt;notebook-&gt;jupyter&gt;=1.0.0-&gt;lrmaCUX==0.0.2) (2.21)\n",
       "</pre>\n"
      ],
      "text/plain": [
       "Requirement already satisfied: pycparser in /opt/conda/lib/python3.10/site-packages (from cffi>=1.0.1->argon2-cffi-bindings->argon2-cffi->notebook->jupyter>=1.0.0->lrmaCUX==0.0.2) (2.21)\n"
      ]
     },
     "metadata": {},
     "output_type": "display_data"
    }
   ],
   "source": [
    "# from Kiran G's notebook\n",
    "import pip\n",
    "\n",
    "def import_or_install(package):\n",
    "    try:\n",
    "        __import__(package)\n",
    "    except ImportError:\n",
    "        pip.main(['install', package])\n",
    "        \n",
    "        \n",
    "import_or_install('google.cloud.storage.bucket')\n",
    "import_or_install('firecloud')\n",
    "import_or_install('git+https://github.com/broadinstitute/lrma-cloud-utils.git')        "
   ]
  },
  {
   "cell_type": "code",
   "execution_count": 2,
   "metadata": {},
   "outputs": [],
   "source": [
    "import re\n",
    "import os\n",
    "import io\n",
    "\n",
    "import argparse\n",
    "import numpy as np\n",
    "import pandas as pd\n",
    "import seaborn as sns\n",
    "import scipy\n",
    "import datetime\n",
    "from datetime import datetime as dt\n",
    "import pprint\n",
    "import firecloud.api as fapi\n",
    "\n",
    "from IPython.display import display, Markdown, Latex\n",
    "pd.options.mode.chained_assignment = None"
   ]
  },
  {
   "cell_type": "markdown",
   "metadata": {},
   "source": [
    "**Index**<a name='index' />\n",
    "<br><br>\n",
    "<a href=#iwashere>Point last edited</a>\n",
    "<br>"
   ]
  },
  {
   "cell_type": "code",
   "execution_count": 15,
   "metadata": {},
   "outputs": [
    {
     "data": {
      "text/plain": [
       "'pet-110662403152784348286@terra-488d659d.iam.gserviceaccount.com'"
      ]
     },
     "execution_count": 15,
     "metadata": {},
     "output_type": "execute_result"
    }
   ],
   "source": [
    "fapi.whoami()"
   ]
  },
  {
   "cell_type": "markdown",
   "metadata": {},
   "source": [
    "fapi.get_entities(namespace, workspace, table_name)\n",
    "\n",
    "def get_entities(namespace, workspace, etype):\n",
    "    \"\"\"List entities of given type in a workspace.\n",
    "\n",
    "    Response content will be in JSON format.\n",
    "\n",
    "    Args:\n",
    "        namespace (str): project to which workspace belongs\n",
    "        workspace (str): Workspace name\n",
    "        etype (str): Entity type\n",
    "\n",
    "    Swagger:\n",
    "        https://api.firecloud.org/#!/Entities/getEntities\n",
    "    \"\"\"\n",
    "    uri = \"workspaces/{0}/{1}/entities/{2}\".format(namespace, workspace, etype)\n",
    "    return __get(uri)\n"
   ]
  },
  {
   "cell_type": "code",
   "execution_count": 3,
   "metadata": {},
   "outputs": [],
   "source": [
    "gp_dev_tbl=fapi.get_entities('production-long-reads','broad-gp-pacbio-dev','sample').json()"
   ]
  },
  {
   "cell_type": "code",
   "execution_count": 4,
   "metadata": {},
   "outputs": [
    {
     "data": {
      "text/plain": [
       "{'attributes': {'application': 'hifiReads',\n",
       "  'input_bam': 'gs://fc-8c3900db-633f-477f-96b3-fb31ae265c44/inputs/r64020e_20230223_124522/1_A01/bc2091--bc2091/m64020e_230223_125542.hifi_reads.bc2091--bc2091.bam',\n",
       "  'input_barcode': 'bc2091--bc2091',\n",
       "  'instrument_type': 'Sequel IIe',\n",
       "  'gcs_input_dir': 'gs://fc-8c3900db-633f-477f-96b3-fb31ae265c44/inputs/r64020e_20230223_124522/1_A01/bc2091--bc2091',\n",
       "  'well_sample': 420588966,\n",
       "  'num_records': 2289968,\n",
       "  'smrtcell_id': 'DA205784',\n",
       "  'experiment_type': 'CCS',\n",
       "  'run_name': 'FCT-70287_000015769411',\n",
       "  'workspace': '',\n",
       "  'smrtlink': '11.0.0.146107',\n",
       "  'created_at': '2023-02-23T12:31:45.868Z',\n",
       "  'metadata_xml': 'gs://fc-8c3900db-633f-477f-96b3-fb31ae265c44/inputs/r64020e_20230223_124522/1_A01/bc2091--bc2091/m64020e_230223_125542.bc2091--bc2091.consensusreadset.xml',\n",
       "  'ccs_report': 'gs://fc-8c3900db-633f-477f-96b3-fb31ae265c44/inputs/r64020e_20230223_124522/1_A01/m64020e_230223_125542.ccs_reports.txt',\n",
       "  'is_ccs': False,\n",
       "  'total_length': 32808523718,\n",
       "  'bio_sample': 'BB_SET_0011_SM-MW23T',\n",
       "  'well_name': 'A01',\n",
       "  'description': 'BB_SET_0011_SM-MW23T',\n",
       "  '5mc_report': 'gs://fc-8c3900db-633f-477f-96b3-fb31ae265c44/inputs/r64020e_20230223_124522/1_A01/m64020e_230223_125542.5mc_report.json',\n",
       "  'movie_name': 'm64020e_230223_125542',\n",
       "  'is_isoseq': False,\n",
       "  'ref_map': 'gs://fc-8c3900db-633f-477f-96b3-fb31ae265c44/resources/references/grch38_noalt/grch38_noalt.txt',\n",
       "  'run_time_stamped_name': 'r64020e_20230223_124522',\n",
       "  'instrument': '64020e',\n",
       "  'input_pbi': 'gs://fc-8c3900db-633f-477f-96b3-fb31ae265c44/inputs/r64020e_20230223_124522/1_A01/bc2091--bc2091/m64020e_230223_125542.hifi_reads.bc2091--bc2091.bam.pbi'},\n",
       " 'entityType': 'sample',\n",
       " 'name': '653ba8db1a73ec68027e8dbaa63f6920'}"
      ]
     },
     "execution_count": 4,
     "metadata": {},
     "output_type": "execute_result"
    }
   ],
   "source": [
    "# fapi.get_entities gets terra table as a list of smaller json objects,\n",
    "# each corresponding to an entity in the table\n",
    "gp_dev_tbl[0]"
   ]
  },
  {
   "cell_type": "code",
   "execution_count": 5,
   "metadata": {},
   "outputs": [
    {
     "data": {
      "text/plain": [
       "['hifiReads',\n",
       " 'ampliconLessThan3kb',\n",
       " 'masSeqForIsoSeq',\n",
       " 'masSeq',\n",
       " 'amplicon3kbOrGreater',\n",
       " 'isoSeq',\n",
       " 'unknown',\n",
       " 'custom']"
      ]
     },
     "execution_count": 5,
     "metadata": {},
     "output_type": "execute_result"
    }
   ],
   "source": [
    "list(set(map(lambda e: e['attributes']['application'], gp_dev_tbl)))"
   ]
  },
  {
   "cell_type": "code",
   "execution_count": 6,
   "metadata": {},
   "outputs": [
    {
     "data": {
      "text/plain": [
       "['MASSEQ', 'CLR', 'ISOSEQ', 'CCS']"
      ]
     },
     "execution_count": 6,
     "metadata": {},
     "output_type": "execute_result"
    }
   ],
   "source": [
    "list(set(map(lambda e: e['attributes']['experiment_type'], gp_dev_tbl)))"
   ]
  },
  {
   "cell_type": "raw",
   "metadata": {},
   "source": [
    "def get_entities_tsv(namespace, workspace, etype, attrs=None, model=\"firecloud\"):\n",
    "    \"\"\"List entities of given type in a workspace as a TSV.\n",
    "\n",
    "    Similar to get_entities(), but the response is a TSV.\n",
    "\n",
    "    Args:\n",
    "        namespace (str): project to which workspace belongs\n",
    "        workspace (str): Workspace name\n",
    "        etype (str): Entity type\n",
    "        attrs (list): list of ordered attribute names to be in downloaded tsv\n",
    "        model (str): Data Model type. \"firecloud\" (default) or \"flexible\"\n",
    "\n",
    "    Swagger:\n",
    "        https://api.firecloud.org/#!/Entities/downloadEntitiesTSV\n",
    "    \"\"\"\n",
    "    params = {'model': model}\n",
    "    if attrs is not None:\n",
    "        params['attributeNames'] = ','.join(attrs)\n",
    "    uri = \"workspaces/{0}/{1}/entities/{2}/tsv\".format(namespace,\n",
    "                                                workspace, etype)\n",
    "    return __get(uri, params=params)"
   ]
  },
  {
   "cell_type": "code",
   "execution_count": 7,
   "metadata": {},
   "outputs": [],
   "source": [
    "masseq_attributes=['application','experiment_type',\n",
    "                   'bio_sample','movie_name','smrtcell_id',\n",
    "                   'input_bam','input_barcode','instrument_type',\n",
    "                   'well_sample','well_name','smrtlink']"
   ]
  },
  {
   "cell_type": "code",
   "execution_count": 8,
   "metadata": {},
   "outputs": [],
   "source": [
    "r=fapi.get_entities_tsv('production-long-reads','broad-gp-pacbio-dev','sample', \n",
    "                      attrs=masseq_attributes, model=\"flexible\")\n"
   ]
  },
  {
   "cell_type": "code",
   "execution_count": 10,
   "metadata": {},
   "outputs": [],
   "source": [
    "#r.status_code = check if status code = 200 for OK reponse back\n",
    "#r.content = contains the tsv conatin in bytes - decode to utf-8"
   ]
  },
  {
   "cell_type": "code",
   "execution_count": 11,
   "metadata": {},
   "outputs": [
    {
     "data": {
      "text/plain": [
       "200"
      ]
     },
     "execution_count": 11,
     "metadata": {},
     "output_type": "execute_result"
    }
   ],
   "source": [
    "r.status_code"
   ]
  },
  {
   "cell_type": "code",
   "execution_count": 12,
   "metadata": {},
   "outputs": [],
   "source": [
    "df_masseq_tbl=pd.read_csv(io.StringIO(r.content.decode('utf-8')),sep='\\t')"
   ]
  },
  {
   "cell_type": "code",
   "execution_count": 13,
   "metadata": {},
   "outputs": [
    {
     "data": {
      "text/html": [
       "<div>\n",
       "<style scoped>\n",
       "    .dataframe tbody tr th:only-of-type {\n",
       "        vertical-align: middle;\n",
       "    }\n",
       "\n",
       "    .dataframe tbody tr th {\n",
       "        vertical-align: top;\n",
       "    }\n",
       "\n",
       "    .dataframe thead th {\n",
       "        text-align: right;\n",
       "    }\n",
       "</style>\n",
       "<table border=\"1\" class=\"dataframe\">\n",
       "  <thead>\n",
       "    <tr style=\"text-align: right;\">\n",
       "      <th></th>\n",
       "      <th>entity:sample_id</th>\n",
       "      <th>application</th>\n",
       "      <th>experiment_type</th>\n",
       "      <th>bio_sample</th>\n",
       "      <th>movie_name</th>\n",
       "      <th>smrtcell_id</th>\n",
       "      <th>input_bam</th>\n",
       "      <th>input_barcode</th>\n",
       "      <th>instrument_type</th>\n",
       "      <th>well_sample</th>\n",
       "      <th>well_name</th>\n",
       "      <th>smrtlink</th>\n",
       "    </tr>\n",
       "  </thead>\n",
       "  <tbody>\n",
       "    <tr>\n",
       "      <th>0</th>\n",
       "      <td>0031c7827076af4a557c4f616bb13667</td>\n",
       "      <td>hifiReads</td>\n",
       "      <td>CCS</td>\n",
       "      <td>BIDMC108</td>\n",
       "      <td>m84143_231019_220554_s1</td>\n",
       "      <td>EA035546</td>\n",
       "      <td>gs://fc-8c3900db-633f-477f-96b3-fb31ae265c44/i...</td>\n",
       "      <td>none</td>\n",
       "      <td>Revio</td>\n",
       "      <td>431736832</td>\n",
       "      <td>A01</td>\n",
       "      <td>12.0.0.177059</td>\n",
       "    </tr>\n",
       "    <tr>\n",
       "      <th>1</th>\n",
       "      <td>0036c8280ae4aa824b88a8f5e135a706</td>\n",
       "      <td>hifiReads</td>\n",
       "      <td>CCS</td>\n",
       "      <td>MAP017_C</td>\n",
       "      <td>m64359e_230325_123922</td>\n",
       "      <td>DA169687</td>\n",
       "      <td>gs://fc-8c3900db-633f-477f-96b3-fb31ae265c44/i...</td>\n",
       "      <td>bc2045--bc2045</td>\n",
       "      <td>Sequel IIe</td>\n",
       "      <td>420588645</td>\n",
       "      <td>C01</td>\n",
       "      <td>11.0.0.146107</td>\n",
       "    </tr>\n",
       "    <tr>\n",
       "      <th>2</th>\n",
       "      <td>0076573c8ec00bf991be76f549f3aeb8</td>\n",
       "      <td>hifiReads</td>\n",
       "      <td>CCS</td>\n",
       "      <td>127666_D180</td>\n",
       "      <td>m84037_230929_195641_s3</td>\n",
       "      <td>EA024110</td>\n",
       "      <td>gs://fc-8c3900db-633f-477f-96b3-fb31ae265c44/i...</td>\n",
       "      <td>none</td>\n",
       "      <td>Revio</td>\n",
       "      <td>175923958</td>\n",
       "      <td>C01</td>\n",
       "      <td>12.0.0.177059</td>\n",
       "    </tr>\n",
       "    <tr>\n",
       "      <th>3</th>\n",
       "      <td>00bd21cd3cadb8ec335eef86638be425</td>\n",
       "      <td>isoSeq</td>\n",
       "      <td>ISOSEQ</td>\n",
       "      <td>CHDI_Deepdives_PB85</td>\n",
       "      <td>m64412e_230810_201738</td>\n",
       "      <td>DA260048</td>\n",
       "      <td>gs://fc-8c3900db-633f-477f-96b3-fb31ae265c44/i...</td>\n",
       "      <td>none</td>\n",
       "      <td>Sequel IIe</td>\n",
       "      <td>427952115</td>\n",
       "      <td>D01</td>\n",
       "      <td>12.0.0.177059</td>\n",
       "    </tr>\n",
       "    <tr>\n",
       "      <th>4</th>\n",
       "      <td>00c426a982e904dcda123f753db2ad42</td>\n",
       "      <td>hifiReads</td>\n",
       "      <td>CCS</td>\n",
       "      <td>CP-102020-50</td>\n",
       "      <td>m84175_231021_205539_s1</td>\n",
       "      <td>EA030106</td>\n",
       "      <td>gs://fc-8c3900db-633f-477f-96b3-fb31ae265c44/i...</td>\n",
       "      <td>none</td>\n",
       "      <td>Revio</td>\n",
       "      <td>431736860</td>\n",
       "      <td>A01</td>\n",
       "      <td>12.0.0.177059</td>\n",
       "    </tr>\n",
       "  </tbody>\n",
       "</table>\n",
       "</div>"
      ],
      "text/plain": [
       "                   entity:sample_id application experiment_type  \\\n",
       "0  0031c7827076af4a557c4f616bb13667   hifiReads             CCS   \n",
       "1  0036c8280ae4aa824b88a8f5e135a706   hifiReads             CCS   \n",
       "2  0076573c8ec00bf991be76f549f3aeb8   hifiReads             CCS   \n",
       "3  00bd21cd3cadb8ec335eef86638be425      isoSeq          ISOSEQ   \n",
       "4  00c426a982e904dcda123f753db2ad42   hifiReads             CCS   \n",
       "\n",
       "            bio_sample               movie_name smrtcell_id  \\\n",
       "0             BIDMC108  m84143_231019_220554_s1    EA035546   \n",
       "1             MAP017_C    m64359e_230325_123922    DA169687   \n",
       "2          127666_D180  m84037_230929_195641_s3    EA024110   \n",
       "3  CHDI_Deepdives_PB85    m64412e_230810_201738    DA260048   \n",
       "4         CP-102020-50  m84175_231021_205539_s1    EA030106   \n",
       "\n",
       "                                           input_bam   input_barcode  \\\n",
       "0  gs://fc-8c3900db-633f-477f-96b3-fb31ae265c44/i...            none   \n",
       "1  gs://fc-8c3900db-633f-477f-96b3-fb31ae265c44/i...  bc2045--bc2045   \n",
       "2  gs://fc-8c3900db-633f-477f-96b3-fb31ae265c44/i...            none   \n",
       "3  gs://fc-8c3900db-633f-477f-96b3-fb31ae265c44/i...            none   \n",
       "4  gs://fc-8c3900db-633f-477f-96b3-fb31ae265c44/i...            none   \n",
       "\n",
       "  instrument_type well_sample well_name       smrtlink  \n",
       "0           Revio   431736832       A01  12.0.0.177059  \n",
       "1      Sequel IIe   420588645       C01  11.0.0.146107  \n",
       "2           Revio   175923958       C01  12.0.0.177059  \n",
       "3      Sequel IIe   427952115       D01  12.0.0.177059  \n",
       "4           Revio   431736860       A01  12.0.0.177059  "
      ]
     },
     "execution_count": 13,
     "metadata": {},
     "output_type": "execute_result"
    }
   ],
   "source": [
    "df_masseq_tbl.head()"
   ]
  },
  {
   "cell_type": "code",
   "execution_count": 14,
   "metadata": {},
   "outputs": [
    {
     "data": {
      "text/plain": [
       "array(['MASSEQ', 'CCS', 'CLR'], dtype=object)"
      ]
     },
     "execution_count": 14,
     "metadata": {},
     "output_type": "execute_result"
    }
   ],
   "source": [
    "df_masseq_tbl.loc[df_masseq_tbl['application'].isin([\\\n",
    "            'amplicon3kbOrGreater','custom','ampliconLessThan3kb']), 'experiment_type'].unique()"
   ]
  },
  {
   "cell_type": "code",
   "execution_count": 15,
   "metadata": {},
   "outputs": [
    {
     "data": {
      "text/plain": [
       "array(['CCS', 'CLR'], dtype=object)"
      ]
     },
     "execution_count": 15,
     "metadata": {},
     "output_type": "execute_result"
    }
   ],
   "source": [
    "df_masseq_tbl.loc[df_masseq_tbl['application'].isin([\\\n",
    "            'amplicon3kbOrGreater','ampliconLessThan3kb']), 'experiment_type'].unique()"
   ]
  },
  {
   "cell_type": "code",
   "execution_count": 16,
   "metadata": {},
   "outputs": [
    {
     "data": {
      "text/plain": [
       "array(['CCS', 'ISOSEQ', 'MASSEQ', 'CLR'], dtype=object)"
      ]
     },
     "execution_count": 16,
     "metadata": {},
     "output_type": "execute_result"
    }
   ],
   "source": [
    "df_masseq_tbl.loc[~df_masseq_tbl['application'].isin([\\\n",
    "            'amplicon3kbOrGreater','custom','ampliconLessThan3kb']), 'experiment_type'].unique()"
   ]
  },
  {
   "cell_type": "code",
   "execution_count": 17,
   "metadata": {},
   "outputs": [
    {
     "data": {
      "text/html": [
       "<div>\n",
       "<style scoped>\n",
       "    .dataframe tbody tr th:only-of-type {\n",
       "        vertical-align: middle;\n",
       "    }\n",
       "\n",
       "    .dataframe tbody tr th {\n",
       "        vertical-align: top;\n",
       "    }\n",
       "\n",
       "    .dataframe thead th {\n",
       "        text-align: right;\n",
       "    }\n",
       "</style>\n",
       "<table border=\"1\" class=\"dataframe\">\n",
       "  <thead>\n",
       "    <tr style=\"text-align: right;\">\n",
       "      <th>col_0</th>\n",
       "      <th>experiment_type</th>\n",
       "    </tr>\n",
       "    <tr>\n",
       "      <th>application</th>\n",
       "      <th></th>\n",
       "    </tr>\n",
       "  </thead>\n",
       "  <tbody>\n",
       "    <tr>\n",
       "      <th>False</th>\n",
       "      <td>49</td>\n",
       "    </tr>\n",
       "    <tr>\n",
       "      <th>True</th>\n",
       "      <td>1178</td>\n",
       "    </tr>\n",
       "  </tbody>\n",
       "</table>\n",
       "</div>"
      ],
      "text/plain": [
       "col_0        experiment_type\n",
       "application                 \n",
       "False                     49\n",
       "True                    1178"
      ]
     },
     "execution_count": 17,
     "metadata": {},
     "output_type": "execute_result"
    }
   ],
   "source": [
    "pd.crosstab(~df_masseq_tbl['application'].isin([\\\n",
    "            'amplicon3kbOrGreater','custom','ampliconLessThan3kb']), 'experiment_type')"
   ]
  },
  {
   "cell_type": "code",
   "execution_count": 18,
   "metadata": {},
   "outputs": [
    {
     "data": {
      "text/plain": [
       "application           experiment_type\n",
       "amplicon3kbOrGreater  CCS                  15\n",
       "ampliconLessThan3kb   CLR                   1\n",
       "custom                MASSEQ               33\n",
       "hifiReads             CCS                1066\n",
       "isoSeq                ISOSEQ               79\n",
       "                      MASSEQ                4\n",
       "masSeq                MASSEQ               12\n",
       "masSeqForIsoSeq       MASSEQ               12\n",
       "unknown               CLR                   5\n",
       "Name: bio_sample, dtype: int64"
      ]
     },
     "execution_count": 18,
     "metadata": {},
     "output_type": "execute_result"
    }
   ],
   "source": [
    "df_masseq_tbl.groupby([\"application\",\"experiment_type\"])[\"bio_sample\"].count()"
   ]
  },
  {
   "cell_type": "code",
   "execution_count": null,
   "metadata": {},
   "outputs": [],
   "source": [
    "df_masseq_tbl"
   ]
  },
  {
   "cell_type": "code",
   "execution_count": 27,
   "metadata": {},
   "outputs": [
    {
     "data": {
      "text/plain": [
       "(1227,)"
      ]
     },
     "execution_count": 27,
     "metadata": {},
     "output_type": "execute_result"
    }
   ],
   "source": [
    "df_masseq_tbl.bio_sample.shape"
   ]
  },
  {
   "cell_type": "code",
   "execution_count": 29,
   "metadata": {},
   "outputs": [
    {
     "data": {
      "text/plain": [
       "(667,)"
      ]
     },
     "execution_count": 29,
     "metadata": {},
     "output_type": "execute_result"
    }
   ],
   "source": [
    "df_masseq_tbl.bio_sample.unique().shape"
   ]
  },
  {
   "cell_type": "code",
   "execution_count": 40,
   "metadata": {},
   "outputs": [
    {
     "data": {
      "text/plain": [
       "(1227, 12)"
      ]
     },
     "execution_count": 40,
     "metadata": {},
     "output_type": "execute_result"
    }
   ],
   "source": [
    "df_masseq_tbl.loc[df_masseq_tbl.bio_sample.notna(),].shape"
   ]
  },
  {
   "cell_type": "code",
   "execution_count": 41,
   "metadata": {},
   "outputs": [
    {
     "data": {
      "text/plain": [
       "(0, 12)"
      ]
     },
     "execution_count": 41,
     "metadata": {},
     "output_type": "execute_result"
    }
   ],
   "source": [
    "df_masseq_tbl.loc[df_masseq_tbl.bio_sample.isna(),].shape"
   ]
  },
  {
   "cell_type": "code",
   "execution_count": null,
   "metadata": {},
   "outputs": [],
   "source": [
    "def upload_entities_tsv(namespace, workspace, entities_tsv, model='firecloud'):\n",
    "    \"\"\"Upload entities from a tsv loadfile.\n",
    "\n",
    "    File-based wrapper for api.upload_entities().\n",
    "    A loadfile is a tab-separated text file with a header row\n",
    "    describing entity type and attribute names, followed by\n",
    "    rows of entities and their attribute values.\n",
    "\n",
    "        Ex:\n",
    "            entity:participant_id   age   alive\n",
    "            participant_23           25       Y\n",
    "            participant_27           35       N\n",
    "\n",
    "    Args:\n",
    "        namespace (str): project to which workspace belongs\n",
    "        workspace (str): Workspace name\n",
    "        entities_tsv (file): FireCloud loadfile, see format above\n",
    "        model (str): Data Model type. \"firecloud\" (default) or \"flexible\"\n",
    "    \"\"\"\n",
    "    if isinstance(entities_tsv, string_types):\n",
    "        with open(entities_tsv, \"r\") as tsv:\n",
    "            entity_data = tsv.read()\n",
    "    elif isinstance(entities_tsv, io.StringIO):\n",
    "        entity_data = entities_tsv.getvalue()\n",
    "    else:\n",
    "        raise ValueError('Unsupported input type.')\n",
    "    return upload_entities(namespace, workspace, entity_data, model)"
   ]
  },
  {
   "cell_type": "markdown",
   "metadata": {},
   "source": [
    "<a name='iwashere' />\n",
    "<a href=#index>Go to Top</a>"
   ]
  }
 ],
 "metadata": {
  "kernelspec": {
   "display_name": "Python 3",
   "language": "python",
   "name": "python3"
  },
  "language_info": {
   "codemirror_mode": {
    "name": "ipython",
    "version": 3
   },
   "file_extension": ".py",
   "mimetype": "text/x-python",
   "name": "python",
   "nbconvert_exporter": "python",
   "pygments_lexer": "ipython3",
   "version": "3.10.12"
  },
  "toc": {
   "base_numbering": 1,
   "nav_menu": {},
   "number_sections": true,
   "sideBar": true,
   "skip_h1_title": false,
   "title_cell": "Table of Contents",
   "title_sidebar": "Contents",
   "toc_cell": false,
   "toc_position": {},
   "toc_section_display": true,
   "toc_window_display": false
  }
 },
 "nbformat": 4,
 "nbformat_minor": 2
}
